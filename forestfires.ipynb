{
 "cells": [
  {
   "cell_type": "markdown",
   "metadata": {
    "colab_type": "text",
    "id": "view-in-github"
   },
   "source": [
    "<a href=\"https://colab.research.google.com/github/samuelmcilrath/forest-fires/blob/main/forestfires.ipynb\" target=\"_parent\"><img src=\"https://colab.research.google.com/assets/colab-badge.svg\" alt=\"Open In Colab\"/></a>"
   ]
  },
  {
   "cell_type": "markdown",
   "metadata": {},
   "source": [
    "# Forest Fire Regression - Sam McIlrath and Olivia Creighton\n",
    "\n",
    "## Data\n",
    "Forest fires are highly detrimental to various communities and ecosystems. Their spread is determined by a variety of factors, including weather, topography, and ground cover. We wanted to determine if meteorological data and data on the ground cover could predict the spread of a forest fire. \n",
    "\n",
    "Features include:\n",
    "\n",
    "**X, Y**: Spatial coordinates within a Monteshino Park map\n",
    "\n",
    "**Month, day**: \"jan\" to \"dec\" and \"mon\" to \"sun\"\n",
    "\n",
    "**FFMC**: Fine Fuel Moisture Code; the amount of moisture in the litter/fuel on the ground; relative measure of ease of ignition and flammability\n",
    "\n",
    "**DMC**: Duff Moisture Code; the amount of moisture in the top layer of soil\n",
    "\n",
    "**DC**: Drought Code; the amount of moisture of deeper soil\n",
    "\n",
    "**ISI**: Initial Spread Index; expected rate of fire spread, based on windspeed and FFMC\n",
    "\n",
    "**Temp**: Temperature in Celsius degrees\n",
    "\n",
    "**RH**: Relative humidity in %\n",
    "\n",
    "**Wind**: Wind speed in km/h\n",
    "\n",
    "**Rain**: Outside rain in mm/m2\n",
    "\n",
    "**Area**: Burned area in hectares\n",
    "\n",
    "FFMC, DMC, and DC according to the FWI (https://cwfis.cfs.nrcan.gc.ca/background/summary/fwi)"
   ]
  },
  {
   "cell_type": "code",
   "execution_count": 133,
   "metadata": {},
   "outputs": [
    {
     "name": "stdout",
     "output_type": "stream",
     "text": [
      "First 5 records: \n",
      "    X  Y month  day  FFMC   DMC     DC  ISI  temp  RH  wind  rain  area\n",
      "0  7  5   mar  fri  86.2  26.2   94.3  5.1   8.2  51   6.7   0.0   0.0\n",
      "1  7  4   oct  tue  90.6  35.4  669.1  6.7  18.0  33   0.9   0.0   0.0\n",
      "2  7  4   oct  sat  90.6  43.7  686.9  6.7  14.6  33   1.3   0.0   0.0\n",
      "3  8  6   mar  fri  91.7  33.3   77.5  9.0   8.3  97   4.0   0.2   0.0\n",
      "4  8  6   mar  sun  89.3  51.3  102.2  9.6  11.4  99   1.8   0.0   0.0\n"
     ]
    }
   ],
   "source": [
    "import pandas as pd\n",
    "import numpy as np\n",
    "import matplotlib.pyplot as plt\n",
    "\n",
    "import sklearn\n",
    "\n",
    "from sklearn.linear_model import LinearRegression, Lasso, Ridge, LogisticRegression\n",
    "from sklearn.ensemble import RandomForestRegressor\n",
    "from sklearn.neural_network import MLPRegressor\n",
    "from sklearn.svm import SVR, SVC, LinearSVC\n",
    "from sklearn.neighbors import KNeighborsRegressor\n",
    "from sklearn.preprocessing import StandardScaler\n",
    "from sklearn.decomposition import PCA\n",
    "from sklearn.mixture import GaussianMixture\n",
    "from sklearn.neural_network import MLPClassifier\n",
    "from sklearn.neighbors import KNeighborsClassifier\n",
    "import tensorflow as tf\n",
    "from sklearn.model_selection import train_test_split\n",
    "from sklearn.metrics import mean_squared_error, mean_absolute_error, r2_score, accuracy_score, precision_score, recall_score, f1_score\n",
    "\n",
    "\n",
    "import matplotlib.pyplot as plt\n",
    "%matplotlib inline\n",
    "\n",
    "# Set the path to the file you'd like to load\n",
    "file_path = \"C:\\MAIN\\School\\ML\\Sem Proj\\forest-fires\\forestfires.ipynb\"\n",
    "\n",
    "# Load the latest version\n",
    "forest_fires = pd.read_csv(\"forestfires_dataset.csv\")\n",
    "\n",
    "print(\"First 5 records: \\n\", forest_fires.head())\n",
    "  "
   ]
  },
  {
   "cell_type": "markdown",
   "metadata": {},
   "source": [
    "### Data Transformation"
   ]
  },
  {
   "cell_type": "code",
   "execution_count": 116,
   "metadata": {},
   "outputs": [],
   "source": [
    "###Transform Data - get splits\n",
    "forest_fires = forest_fires.drop(columns=['month', 'day']) #drop month and day columns\n",
    "\n",
    "X = forest_fires.drop(columns=['area', 'X', 'Y'])\n",
    "Y = forest_fires[['area']]\n",
    "\n",
    "Y_log = np.log1p(Y) #skewed to 0, apply log \n",
    "\n",
    "# Standardize numerical features - this standardizes mean to 0\n",
    "scaler = StandardScaler()\n",
    "X_scaled = scaler.fit_transform(X)\n",
    "\n",
    "# Split into training and test sets\n",
    "X_train, X_test, y_train_log, y_test_log = train_test_split(\n",
    "    X_scaled, Y_log, test_size=0.2, random_state=42\n",
    ")\n",
    "\n",
    "# Split into training and test sets\n",
    "X_train_base, X_test_base, y_train, y_test = train_test_split(\n",
    "    X_scaled, Y, test_size=0.2, random_state=42\n",
    ")\n",
    "##note \n",
    "#if going with classifier, try to make amounts of nonburn to burn "
   ]
  },
  {
   "cell_type": "code",
   "execution_count": 117,
   "metadata": {},
   "outputs": [
    {
     "name": "stdout",
     "output_type": "stream",
     "text": [
      "247\n",
      "Number of zeros in area column: 247\n",
      "Total number of rows: 517\n"
     ]
    }
   ],
   "source": [
    "### Data Transformation\n",
    "count = 0\n",
    "for i in forest_fires['area']:\n",
    "    if i == 0:\n",
    "        count += 1\n",
    "print(count)    \n",
    "\n",
    "# Count zeros in the area column\n",
    "zero_count = (forest_fires['area'] == 0).sum()\n",
    "print(f\"Number of zeros in area column: {zero_count}\")\n",
    "\n",
    "# Let's also see the total number of rows for comparison\n",
    "total_rows = len(forest_fires)\n",
    "print(f\"Total number of rows: {total_rows}\")\n"
   ]
  },
  {
   "cell_type": "code",
   "execution_count": 118,
   "metadata": {},
   "outputs": [
    {
     "data": {
      "image/png": "[encoded data removed]",
      "text/plain": [
       "<Figure size 1400x400 with 2 Axes>"
      ]
     },
     "metadata": {},
     "output_type": "display_data"
    }
   ],
   "source": [
    "# Create two subplots side by side\n",
    "fig, (ax1, ax2) = plt.subplots(1, 2, figsize=(14, 4))\n",
    "\n",
    "# Original distribution\n",
    "ax1.hist(forest_fires['area'], bins=30)\n",
    "ax1.set_title('Original Area Distribution')\n",
    "ax1.set_xlabel('Area (hectares)')\n",
    "ax1.set_ylabel('Frequency')\n",
    "\n",
    "# Log-transformed distribution\n",
    "ax2.hist(np.log1p(forest_fires['area']), bins=30, color='orange')\n",
    "ax2.set_title('Log-transformed Area Distribution')\n",
    "ax2.set_xlabel('log(Area + 1)')\n",
    "ax2.set_ylabel('Frequency')\n",
    "\n",
    "plt.show()"
   ]
  },
  {
   "cell_type": "markdown",
   "metadata": {},
   "source": [
    "## Regression Models"
   ]
  },
  {
   "cell_type": "code",
   "execution_count": 119,
   "metadata": {},
   "outputs": [
    {
     "name": "stdout",
     "output_type": "stream",
     "text": [
      "\n",
      "Linear Regression Performance -----------\n",
      "-> log transformed\n",
      "Training set score: 0.02\n",
      "Test set score: 0.00\n",
      "RMSE: 109.960\n",
      "MAE: 19.807\n",
      "R²: -0.026\n",
      "-> no transformation\n",
      "Training set score: -0.05\n",
      "Test set score: -0.03\n",
      "RMSE: 110.135\n",
      "MAE: 19.669\n",
      "R²: -0.029\n",
      "\n",
      "Ridge Regression Performance -----------\n",
      "-> log transformed\n",
      "Training set score: 0.02\n",
      "Test set score: 0.00\n",
      "RMSE: 109.960\n",
      "MAE: 19.807\n",
      "R²: -0.026\n",
      "-> no transformation\n",
      "Training set score: -0.05\n",
      "Test set score: -0.03\n",
      "RMSE: 110.135\n",
      "MAE: 19.669\n",
      "R²: -0.029\n",
      "\n",
      "Lasso Regression Performance -----------\n",
      "-> log transformed\n",
      "Training set score: 0.00\n",
      "Test set score: -0.00\n",
      "RMSE: 109.995\n",
      "MAE: 19.819\n",
      "R²: -0.026\n",
      "-> no transformation\n",
      "Training set score: -0.05\n",
      "Test set score: -0.03\n",
      "RMSE: 110.145\n",
      "MAE: 19.679\n",
      "R²: -0.029\n"
     ]
    },
    {
     "name": "stderr",
     "output_type": "stream",
     "text": [
      "c:\\Python311\\Lib\\site-packages\\sklearn\\neural_network\\_multilayer_perceptron.py:1650: DataConversionWarning: A column-vector y was passed when a 1d array was expected. Please change the shape of y to (n_samples, ), for example using ravel().\n",
      "  y = column_or_1d(y, warn=True)\n"
     ]
    },
    {
     "name": "stdout",
     "output_type": "stream",
     "text": [
      "\n",
      "Neural Network (MLPRegressor) Performance -----------\n",
      "-> log transformed\n",
      "Training set score: -0.00\n",
      "Test set score: 0.02\n",
      "RMSE: 109.865\n",
      "MAE: 19.905\n",
      "R²: -0.024\n",
      "-> no transformation\n",
      "Training set score: -0.05\n",
      "Test set score: -0.03\n",
      "RMSE: 110.106\n",
      "MAE: 19.680\n",
      "R²: -0.028\n"
     ]
    }
   ],
   "source": [
    "# A helper function to evaluate models\n",
    "def evaluate_model(model, X_train, y_train, X_test, y_test, is_log_transformed=True):\n",
    "    # Get predictions\n",
    "    y_pred = model.predict(X_test)\n",
    "    \n",
    "    if is_log_transformed:\n",
    "        # For log-transformed data, convert back to original scale\n",
    "        y_pred = np.expm1(y_pred)\n",
    "        y_true = np.expm1(y_test)\n",
    "    else:\n",
    "        # For non-transformed data, use as is\n",
    "        y_true = y_test\n",
    "    \n",
    "    print(\"Training set score: {:.2f}\".format(model.score(X_train, y_train)))\n",
    "    print(\"Test set score: {:.2f}\".format(model.score(X_test, y_test)))\n",
    "    rmse = np.sqrt(mean_squared_error(y_true, y_pred))\n",
    "    mae = mean_absolute_error(y_true, y_pred)\n",
    "    r2 = r2_score(y_true, y_pred)\n",
    "    \n",
    "    print(f'RMSE: {rmse:.3f}')\n",
    "    print(f'MAE: {mae:.3f}')\n",
    "    print(f'R²: {r2:.3f}')\n",
    "    return y_pred\n",
    "\n",
    "#Linear Regression\n",
    "lin_reg = LinearRegression()\n",
    "lin_reg.fit(X_train, y_train_log)\n",
    "print(\"\\nLinear Regression Performance -----------\")\n",
    "print(\"-> log transformed\")\n",
    "lin_y_pred = evaluate_model(lin_reg, X_train, y_train_log, X_test, y_test_log, is_log_transformed=True)\n",
    "print(\"-> no transformation\")\n",
    "lin_y_pred = evaluate_model(lin_reg, X_train, y_train, X_test, y_test, is_log_transformed=False)\n",
    "\n",
    "#Ridge Regression (regularized linear model)\n",
    "ridge = Ridge(alpha=0.1)\n",
    "ridge.fit(X_train, y_train_log)\n",
    "print(\"\\nRidge Regression Performance -----------\")\n",
    "print(\"-> log transformed\")\n",
    "ridge_y_pred = evaluate_model(ridge, X_train, y_train_log, X_test, y_test_log, is_log_transformed=True)\n",
    "print(\"-> no transformation\")\n",
    "ridge_y_pred = evaluate_model(ridge, X_train, y_train, X_test, y_test, is_log_transformed=False)\n",
    "\n",
    "#Lasso Regression \n",
    "lasso = Lasso(alpha=0.1)\n",
    "lasso.fit(X_train, y_train_log)\n",
    "print(\"\\nLasso Regression Performance -----------\")\n",
    "print(\"-> log transformed\")\n",
    "lasso_y_pred = evaluate_model(lasso, X_train, y_train_log, X_test, y_test_log, is_log_transformed=True)\n",
    "print(\"-> no transformation\")\n",
    "lasso_y_pred = evaluate_model(lasso, X_train, y_train, X_test, y_test, is_log_transformed=False)\n",
    "\n",
    "# Neural Network with MLPRegressor\n",
    "mlp_reg = MLPRegressor(solver=\"adam\", hidden_layer_sizes=(100), activation='logistic')\n",
    "mlp_reg.fit(X_train, y_train_log)\n",
    "print(\"\\nNeural Network (MLPRegressor) Performance -----------\")\n",
    "print(\"-> log transformed\")\n",
    "mlp_y_pred = evaluate_model(mlp_reg, X_train, y_train_log, X_test, y_test_log, is_log_transformed=True)\n",
    "print(\"-> no transformation\")\n",
    "mlp_y_pred = evaluate_model(mlp_reg, X_train, y_train, X_test, y_test, is_log_transformed=False)"
   ]
  },
  {
   "cell_type": "markdown",
   "metadata": {},
   "source": [
    "# Ground vs. Weather\n",
    "Some of the figures seem to be related to ground condition, while others are related to weather conditions. Do these different sets of factors affect the regression differently?"
   ]
  },
  {
   "cell_type": "code",
   "execution_count": 120,
   "metadata": {},
   "outputs": [
    {
     "name": "stdout",
     "output_type": "stream",
     "text": [
      "Index(['FFMC', 'DMC', 'DC', 'ISI', 'temp', 'RH', 'wind', 'rain'], dtype='object')\n",
      "Index(['FFMC', 'DMC', 'DC', 'ISI'], dtype='object')\n",
      "Index(['temp', 'RH', 'wind', 'rain'], dtype='object')\n",
      "Ground training set R^2: 0.01\n",
      "Ground test set R^2: -0.02\n",
      "Weather training set R^2: 0.02\n",
      "Weather test set R^2: -0.64\n"
     ]
    }
   ],
   "source": [
    "X_ground = forest_fires.drop(columns=['X','Y','wind','rain','temp','RH','area'])\n",
    "X_weather = forest_fires.drop(columns=['X','Y','FFMC','DMC','DC','ISI','area'])\n",
    "\n",
    "print(X.columns)\n",
    "print(X_ground.columns)\n",
    "print(X_weather.columns)\n",
    "\n",
    "X_gscaled = scaler.fit_transform(X_ground)\n",
    "X_wscaled = scaler.fit_transform(X_weather)\n",
    "\n",
    "X_train, X_test, y_train_log, y_test_log = train_test_split(\n",
    "    X_gscaled, Y_log\n",
    ")\n",
    "\n",
    "groundlr = LinearRegression().fit(X_train, y_train_log)\n",
    "\n",
    "print(\"Ground training set R^2: {:.2f}\".format(groundlr.score(X_train, y_train_log)))\n",
    "print(\"Ground test set R^2: {:.2f}\".format(groundlr.score(X_test, y_test_log)))\n",
    "\n",
    "X_train, X_test, y_train_log, y_test_log = train_test_split(\n",
    "    X_wscaled, Y_log\n",
    ")\n",
    "\n",
    "weatherlr = LinearRegression().fit(X_train, y_train_log)\n",
    "\n",
    "print(\"Weather training set R^2: {:.2f}\".format(weatherlr.score(X_train, y_train_log)))\n",
    "print(\"Weather test set R^2: {:.2f}\".format(weatherlr.score(X_test, y_test_log)))\n",
    "\n",
    "#Somehow make a function that displays each combo of factors against each other"
   ]
  },
  {
   "cell_type": "markdown",
   "metadata": {},
   "source": [
    "What if it fits better as a polynomial?"
   ]
  },
  {
   "cell_type": "code",
   "execution_count": 121,
   "metadata": {},
   "outputs": [
    {
     "name": "stdout",
     "output_type": "stream",
     "text": [
      "Polynomial training set R^2: 0.93\n",
      "Polynomial test set R^2: -20373.33\n"
     ]
    }
   ],
   "source": [
    "from sklearn.preprocessing import MinMaxScaler, PolynomialFeatures\n",
    "\n",
    "X_poly = PolynomialFeatures(degree=8).fit_transform(X)\n",
    "\n",
    "X_train, X_test, y_train, y_test = train_test_split(X_poly, Y_log)\n",
    "lr_poly = LinearRegression().fit(X_train, y_train)\n",
    "print(\"Polynomial training set R^2: {:.2f}\".format(lr_poly.score(X_train, y_train)))\n",
    "print(\"Polynomial test set R^2: {:.2f}\".format(lr_poly.score(X_test, y_test)))"
   ]
  },
  {
   "cell_type": "markdown",
   "metadata": {},
   "source": [
    "A liiiiiittle overfit"
   ]
  },
  {
   "cell_type": "markdown",
   "metadata": {},
   "source": [
    "Let's take a look at SVR"
   ]
  },
  {
   "cell_type": "code",
   "execution_count": 122,
   "metadata": {},
   "outputs": [
    {
     "name": "stderr",
     "output_type": "stream",
     "text": [
      "c:\\Python311\\Lib\\site-packages\\sklearn\\utils\\validation.py:1408: DataConversionWarning: A column-vector y was passed when a 1d array was expected. Please change the shape of y to (n_samples, ), for example using ravel().\n",
      "  y = column_or_1d(y, warn=True)\n"
     ]
    },
    {
     "ename": "KeyboardInterrupt",
     "evalue": "",
     "output_type": "error",
     "traceback": [
      "\u001b[31m---------------------------------------------------------------------------\u001b[39m",
      "\u001b[31mKeyboardInterrupt\u001b[39m                         Traceback (most recent call last)",
      "\u001b[36mCell\u001b[39m\u001b[36m \u001b[39m\u001b[32mIn[122]\u001b[39m\u001b[32m, line 4\u001b[39m\n\u001b[32m      1\u001b[39m \u001b[38;5;28;01mfrom\u001b[39;00m\u001b[38;5;250m \u001b[39m\u001b[34;01msklearn\u001b[39;00m\u001b[34;01m.\u001b[39;00m\u001b[34;01msvm\u001b[39;00m\u001b[38;5;250m \u001b[39m\u001b[38;5;28;01mimport\u001b[39;00m SVR\n\u001b[32m      3\u001b[39m svr = SVR(kernel=\u001b[33m'\u001b[39m\u001b[33mrbf\u001b[39m\u001b[33m'\u001b[39m, C=\u001b[32m1.0\u001b[39m, epsilon=\u001b[32m0.1\u001b[39m)\n\u001b[32m----> \u001b[39m\u001b[32m4\u001b[39m \u001b[43msvr\u001b[49m\u001b[43m.\u001b[49m\u001b[43mfit\u001b[49m\u001b[43m(\u001b[49m\u001b[43mX_train\u001b[49m\u001b[43m,\u001b[49m\u001b[43m \u001b[49m\u001b[43my_train\u001b[49m\u001b[43m)\u001b[49m\n\u001b[32m      5\u001b[39m y_pred = svr.predict(X_test)\n",
      "\u001b[36mFile \u001b[39m\u001b[32mc:\\Python311\\Lib\\site-packages\\sklearn\\base.py:1389\u001b[39m, in \u001b[36m_fit_context.<locals>.decorator.<locals>.wrapper\u001b[39m\u001b[34m(estimator, *args, **kwargs)\u001b[39m\n\u001b[32m   1382\u001b[39m     estimator._validate_params()\n\u001b[32m   1384\u001b[39m \u001b[38;5;28;01mwith\u001b[39;00m config_context(\n\u001b[32m   1385\u001b[39m     skip_parameter_validation=(\n\u001b[32m   1386\u001b[39m         prefer_skip_nested_validation \u001b[38;5;129;01mor\u001b[39;00m global_skip_validation\n\u001b[32m   1387\u001b[39m     )\n\u001b[32m   1388\u001b[39m ):\n\u001b[32m-> \u001b[39m\u001b[32m1389\u001b[39m     \u001b[38;5;28;01mreturn\u001b[39;00m \u001b[43mfit_method\u001b[49m\u001b[43m(\u001b[49m\u001b[43mestimator\u001b[49m\u001b[43m,\u001b[49m\u001b[43m \u001b[49m\u001b[43m*\u001b[49m\u001b[43margs\u001b[49m\u001b[43m,\u001b[49m\u001b[43m \u001b[49m\u001b[43m*\u001b[49m\u001b[43m*\u001b[49m\u001b[43mkwargs\u001b[49m\u001b[43m)\u001b[49m\n",
      "\u001b[36mFile \u001b[39m\u001b[32mc:\\Python311\\Lib\\site-packages\\sklearn\\svm\\_base.py:258\u001b[39m, in \u001b[36mBaseLibSVM.fit\u001b[39m\u001b[34m(self, X, y, sample_weight)\u001b[39m\n\u001b[32m    255\u001b[39m     \u001b[38;5;28mprint\u001b[39m(\u001b[33m\"\u001b[39m\u001b[33m[LibSVM]\u001b[39m\u001b[33m\"\u001b[39m, end=\u001b[33m\"\u001b[39m\u001b[33m\"\u001b[39m)\n\u001b[32m    257\u001b[39m seed = rnd.randint(np.iinfo(\u001b[33m\"\u001b[39m\u001b[33mi\u001b[39m\u001b[33m\"\u001b[39m).max)\n\u001b[32m--> \u001b[39m\u001b[32m258\u001b[39m \u001b[43mfit\u001b[49m\u001b[43m(\u001b[49m\u001b[43mX\u001b[49m\u001b[43m,\u001b[49m\u001b[43m \u001b[49m\u001b[43my\u001b[49m\u001b[43m,\u001b[49m\u001b[43m \u001b[49m\u001b[43msample_weight\u001b[49m\u001b[43m,\u001b[49m\u001b[43m \u001b[49m\u001b[43msolver_type\u001b[49m\u001b[43m,\u001b[49m\u001b[43m \u001b[49m\u001b[43mkernel\u001b[49m\u001b[43m,\u001b[49m\u001b[43m \u001b[49m\u001b[43mrandom_seed\u001b[49m\u001b[43m=\u001b[49m\u001b[43mseed\u001b[49m\u001b[43m)\u001b[49m\n\u001b[32m    259\u001b[39m \u001b[38;5;66;03m# see comment on the other call to np.iinfo in this file\u001b[39;00m\n\u001b[32m    261\u001b[39m \u001b[38;5;28mself\u001b[39m.shape_fit_ = X.shape \u001b[38;5;28;01mif\u001b[39;00m \u001b[38;5;28mhasattr\u001b[39m(X, \u001b[33m\"\u001b[39m\u001b[33mshape\u001b[39m\u001b[33m\"\u001b[39m) \u001b[38;5;28;01melse\u001b[39;00m (n_samples,)\n",
      "\u001b[36mFile \u001b[39m\u001b[32mc:\\Python311\\Lib\\site-packages\\sklearn\\svm\\_base.py:336\u001b[39m, in \u001b[36mBaseLibSVM._dense_fit\u001b[39m\u001b[34m(self, X, y, sample_weight, solver_type, kernel, random_seed)\u001b[39m\n\u001b[32m    322\u001b[39m libsvm.set_verbosity_wrap(\u001b[38;5;28mself\u001b[39m.verbose)\n\u001b[32m    324\u001b[39m \u001b[38;5;66;03m# we don't pass **self.get_params() to allow subclasses to\u001b[39;00m\n\u001b[32m    325\u001b[39m \u001b[38;5;66;03m# add other parameters to __init__\u001b[39;00m\n\u001b[32m    326\u001b[39m (\n\u001b[32m    327\u001b[39m     \u001b[38;5;28mself\u001b[39m.support_,\n\u001b[32m    328\u001b[39m     \u001b[38;5;28mself\u001b[39m.support_vectors_,\n\u001b[32m    329\u001b[39m     \u001b[38;5;28mself\u001b[39m._n_support,\n\u001b[32m    330\u001b[39m     \u001b[38;5;28mself\u001b[39m.dual_coef_,\n\u001b[32m    331\u001b[39m     \u001b[38;5;28mself\u001b[39m.intercept_,\n\u001b[32m    332\u001b[39m     \u001b[38;5;28mself\u001b[39m._probA,\n\u001b[32m    333\u001b[39m     \u001b[38;5;28mself\u001b[39m._probB,\n\u001b[32m    334\u001b[39m     \u001b[38;5;28mself\u001b[39m.fit_status_,\n\u001b[32m    335\u001b[39m     \u001b[38;5;28mself\u001b[39m._num_iter,\n\u001b[32m--> \u001b[39m\u001b[32m336\u001b[39m ) = \u001b[43mlibsvm\u001b[49m\u001b[43m.\u001b[49m\u001b[43mfit\u001b[49m\u001b[43m(\u001b[49m\n\u001b[32m    337\u001b[39m \u001b[43m    \u001b[49m\u001b[43mX\u001b[49m\u001b[43m,\u001b[49m\n\u001b[32m    338\u001b[39m \u001b[43m    \u001b[49m\u001b[43my\u001b[49m\u001b[43m,\u001b[49m\n\u001b[32m    339\u001b[39m \u001b[43m    \u001b[49m\u001b[43msvm_type\u001b[49m\u001b[43m=\u001b[49m\u001b[43msolver_type\u001b[49m\u001b[43m,\u001b[49m\n\u001b[32m    340\u001b[39m \u001b[43m    \u001b[49m\u001b[43msample_weight\u001b[49m\u001b[43m=\u001b[49m\u001b[43msample_weight\u001b[49m\u001b[43m,\u001b[49m\n\u001b[32m    341\u001b[39m \u001b[43m    \u001b[49m\u001b[43mclass_weight\u001b[49m\u001b[43m=\u001b[49m\u001b[38;5;28;43mgetattr\u001b[39;49m\u001b[43m(\u001b[49m\u001b[38;5;28;43mself\u001b[39;49m\u001b[43m,\u001b[49m\u001b[43m \u001b[49m\u001b[33;43m\"\u001b[39;49m\u001b[33;43mclass_weight_\u001b[39;49m\u001b[33;43m\"\u001b[39;49m\u001b[43m,\u001b[49m\u001b[43m \u001b[49m\u001b[43mnp\u001b[49m\u001b[43m.\u001b[49m\u001b[43mempty\u001b[49m\u001b[43m(\u001b[49m\u001b[32;43m0\u001b[39;49m\u001b[43m)\u001b[49m\u001b[43m)\u001b[49m\u001b[43m,\u001b[49m\n\u001b[32m    342\u001b[39m \u001b[43m    \u001b[49m\u001b[43mkernel\u001b[49m\u001b[43m=\u001b[49m\u001b[43mkernel\u001b[49m\u001b[43m,\u001b[49m\n\u001b[32m    343\u001b[39m \u001b[43m    \u001b[49m\u001b[43mC\u001b[49m\u001b[43m=\u001b[49m\u001b[38;5;28;43mself\u001b[39;49m\u001b[43m.\u001b[49m\u001b[43mC\u001b[49m\u001b[43m,\u001b[49m\n\u001b[32m    344\u001b[39m \u001b[43m    \u001b[49m\u001b[43mnu\u001b[49m\u001b[43m=\u001b[49m\u001b[38;5;28;43mself\u001b[39;49m\u001b[43m.\u001b[49m\u001b[43mnu\u001b[49m\u001b[43m,\u001b[49m\n\u001b[32m    345\u001b[39m \u001b[43m    \u001b[49m\u001b[43mprobability\u001b[49m\u001b[43m=\u001b[49m\u001b[38;5;28;43mself\u001b[39;49m\u001b[43m.\u001b[49m\u001b[43mprobability\u001b[49m\u001b[43m,\u001b[49m\n\u001b[32m    346\u001b[39m \u001b[43m    \u001b[49m\u001b[43mdegree\u001b[49m\u001b[43m=\u001b[49m\u001b[38;5;28;43mself\u001b[39;49m\u001b[43m.\u001b[49m\u001b[43mdegree\u001b[49m\u001b[43m,\u001b[49m\n\u001b[32m    347\u001b[39m \u001b[43m    \u001b[49m\u001b[43mshrinking\u001b[49m\u001b[43m=\u001b[49m\u001b[38;5;28;43mself\u001b[39;49m\u001b[43m.\u001b[49m\u001b[43mshrinking\u001b[49m\u001b[43m,\u001b[49m\n\u001b[32m    348\u001b[39m \u001b[43m    \u001b[49m\u001b[43mtol\u001b[49m\u001b[43m=\u001b[49m\u001b[38;5;28;43mself\u001b[39;49m\u001b[43m.\u001b[49m\u001b[43mtol\u001b[49m\u001b[43m,\u001b[49m\n\u001b[32m    349\u001b[39m \u001b[43m    \u001b[49m\u001b[43mcache_size\u001b[49m\u001b[43m=\u001b[49m\u001b[38;5;28;43mself\u001b[39;49m\u001b[43m.\u001b[49m\u001b[43mcache_size\u001b[49m\u001b[43m,\u001b[49m\n\u001b[32m    350\u001b[39m \u001b[43m    \u001b[49m\u001b[43mcoef0\u001b[49m\u001b[43m=\u001b[49m\u001b[38;5;28;43mself\u001b[39;49m\u001b[43m.\u001b[49m\u001b[43mcoef0\u001b[49m\u001b[43m,\u001b[49m\n\u001b[32m    351\u001b[39m \u001b[43m    \u001b[49m\u001b[43mgamma\u001b[49m\u001b[43m=\u001b[49m\u001b[38;5;28;43mself\u001b[39;49m\u001b[43m.\u001b[49m\u001b[43m_gamma\u001b[49m\u001b[43m,\u001b[49m\n\u001b[32m    352\u001b[39m \u001b[43m    \u001b[49m\u001b[43mepsilon\u001b[49m\u001b[43m=\u001b[49m\u001b[38;5;28;43mself\u001b[39;49m\u001b[43m.\u001b[49m\u001b[43mepsilon\u001b[49m\u001b[43m,\u001b[49m\n\u001b[32m    353\u001b[39m \u001b[43m    \u001b[49m\u001b[43mmax_iter\u001b[49m\u001b[43m=\u001b[49m\u001b[38;5;28;43mself\u001b[39;49m\u001b[43m.\u001b[49m\u001b[43mmax_iter\u001b[49m\u001b[43m,\u001b[49m\n\u001b[32m    354\u001b[39m \u001b[43m    \u001b[49m\u001b[43mrandom_seed\u001b[49m\u001b[43m=\u001b[49m\u001b[43mrandom_seed\u001b[49m\u001b[43m,\u001b[49m\n\u001b[32m    355\u001b[39m \u001b[43m\u001b[49m\u001b[43m)\u001b[49m\n\u001b[32m    357\u001b[39m \u001b[38;5;28mself\u001b[39m._warn_from_fit_status()\n",
      "\u001b[36mFile \u001b[39m\u001b[32m_libsvm.pyx:263\u001b[39m, in \u001b[36msklearn.svm._libsvm.fit\u001b[39m\u001b[34m()\u001b[39m\n",
      "\u001b[31mKeyboardInterrupt\u001b[39m: "
     ]
    }
   ],
   "source": [
    "from sklearn.svm import SVR\n",
    "\n",
    "svr = SVR(kernel='rbf', C=1.0, epsilon=0.1)\n",
    "svr.fit(X_train, y_train)\n",
    "y_pred = svr.predict(X_test)"
   ]
  },
  {
   "cell_type": "markdown",
   "metadata": {},
   "source": [
    "## Analyzing Correlations\n",
    "After looking at these scores and their lackluster results we decided to check the correltations between the attributes and the target area."
   ]
  },
  {
   "cell_type": "code",
   "execution_count": 124,
   "metadata": {},
   "outputs": [
    {
     "data": {
      "image/png": "[encoded data removed]",
      "text/plain": [
       "<Figure size 1000x600 with 1 Axes>"
      ]
     },
     "metadata": {},
     "output_type": "display_data"
    }
   ],
   "source": [
    "# Calculate correlations\n",
    "correlation_matrix = forest_fires.corr()\n",
    "\n",
    "plt.figure(figsize=(10, 6))\n",
    "# Create bar plot of correlations with area\n",
    "area_correlations = correlation_matrix['area'].drop('area')\n",
    "area_correlations.sort_values().plot(kind='bar', color='skyblue')\n",
    "plt.title('Correlation of Features with Fire Area')\n",
    "plt.xlabel('Features')\n",
    "plt.ylabel('Correlation Coefficient')\n",
    "plt.xticks(rotation=45)\n",
    "plt.tight_layout()\n",
    "plt.show()"
   ]
  },
  {
   "cell_type": "markdown",
   "metadata": {},
   "source": [
    "# Switching to Binary Classification\n",
    "\n",
    "It is clear that regression simply won't work with the given correlations, or at least with the models that we have learned about. Given that a large portion of our target values are 0, it makes a lot of sense to switch this from a regression problem to binary classification where our two classes are area values of 0 and nonzero. This essentially makes it a question of, given certain weather conditions has or hasn't a fire occured?\n",
    "\n",
    "## Data Transformation\n",
    "Once again, we need to transform the data but just the Y this time, making our target values binary."
   ]
  },
  {
   "cell_type": "code",
   "execution_count": 135,
   "metadata": {},
   "outputs": [
    {
     "name": "stdout",
     "output_type": "stream",
     "text": [
      "Number of fire cases (1): 270\n",
      "Number of no-fire cases (0): 247\n"
     ]
    }
   ],
   "source": [
    "#transform to either 0 or 1\n",
    "Y_bin = Y.copy()\n",
    "#Y_bin['area'] = (Y_bin['area'] != 0).astype(int)\n",
    "threshold = 0\n",
    "Y_bin[Y_bin <= threshold] = 0\n",
    "Y_bin[Y_bin > threshold] = 1\n",
    "\n",
    "\n",
    "# Split into training and test sets for classification\n",
    "X_train_bin, X_test_bin, y_train_bin, y_test_bin = train_test_split(\n",
    "    X, Y_bin, test_size=0.2, random_state=42\n",
    ")\n",
    "\n",
    "print(\"Number of fire cases (1):\", (Y_bin['area'] == 1).sum())\n",
    "print(\"Number of no-fire cases (0):\", (Y_bin['area'] == 0).sum())"
   ]
  },
  {
   "cell_type": "markdown",
   "metadata": {},
   "source": [
    "Is there any sort of distinction between non fires and fires across attributes?"
   ]
  },
  {
   "cell_type": "code",
   "execution_count": 126,
   "metadata": {},
   "outputs": [
    {
     "data": {
      "image/png": "[encoded data removed]",
      "text/plain": [
       "<Figure size 1500x1000 with 8 Axes>"
      ]
     },
     "metadata": {},
     "output_type": "display_data"
    }
   ],
   "source": [
    "# recombine X and Y_bin so you have a single DataFrame to slice\n",
    "data_bin = X.copy()\n",
    "data_bin['area'] = Y_bin['area']\n",
    "\n",
    "n_rows = 2      # for example\n",
    "n_cols = 4      # depends on how many features you have\n",
    "features = ['temp', 'RH', 'wind', 'rain', 'FFMC', 'DMC', 'DC', 'ISI']\n",
    "\n",
    "#source: https://python-graph-gallery.com/529-multi-group-histogram-pandas\n",
    "plt.figure(figsize=(15, 5 * n_rows))\n",
    "for i, feature in enumerate(features):\n",
    "    plt.subplot(n_rows, n_cols, i + 1)\n",
    "    \n",
    "    no_fire = data_bin[data_bin['area'] == 0][feature]\n",
    "    fire    = data_bin[data_bin['area'] == 1][feature]\n",
    "    \n",
    "    plt.hist(no_fire, bins=20, alpha = 0.5, label='No Fire (0)')\n",
    "    plt.hist(fire,    bins=20, alpha = 0.5, label='Fire    (1)')\n",
    "    \n",
    "    plt.title(f'{feature} Distribution')\n",
    "    plt.xlabel(feature)\n",
    "    plt.ylabel('Count')\n",
    "    plt.legend()\n",
    "\n",
    "plt.tight_layout()\n",
    "plt.show()"
   ]
  },
  {
   "cell_type": "markdown",
   "metadata": {},
   "source": [
    "## Classification Models\n"
   ]
  },
  {
   "cell_type": "code",
   "execution_count": 147,
   "metadata": {},
   "outputs": [
    {
     "name": "stderr",
     "output_type": "stream",
     "text": [
      "c:\\Python311\\Lib\\site-packages\\sklearn\\neighbors\\_classification.py:239: DataConversionWarning: A column-vector y was passed when a 1d array was expected. Please change the shape of y to (n_samples,), for example using ravel().\n",
      "  return self._fit(X, y)\n",
      "c:\\Python311\\Lib\\site-packages\\sklearn\\utils\\validation.py:1408: DataConversionWarning: A column-vector y was passed when a 1d array was expected. Please change the shape of y to (n_samples, ), for example using ravel().\n",
      "  y = column_or_1d(y, warn=True)\n",
      "c:\\Python311\\Lib\\site-packages\\sklearn\\utils\\validation.py:1408: DataConversionWarning: A column-vector y was passed when a 1d array was expected. Please change the shape of y to (n_samples, ), for example using ravel().\n",
      "  y = column_or_1d(y, warn=True)\n",
      "c:\\Python311\\Lib\\site-packages\\sklearn\\neural_network\\_multilayer_perceptron.py:1124: DataConversionWarning: A column-vector y was passed when a 1d array was expected. Please change the shape of y to (n_samples, ), for example using ravel().\n",
      "  y = column_or_1d(y, warn=True)\n"
     ]
    },
    {
     "name": "stdout",
     "output_type": "stream",
     "text": [
      "KNN - Scores\n",
      "Training set score: 0.66\n",
      "Test set score of knn: 0.61\n",
      "\n",
      "Logistic Regression - Scores\n",
      "Training set score: 0.56\n",
      "Test set score: 0.55\n",
      "\n",
      "SVM - Scores\n",
      "Training set score: 0.61\n",
      "Test set score: 0.60\n",
      "\n",
      "MLP - Scores\n",
      "Training set score: 0.56\n",
      "Test set score: 0.55\n",
      "\n",
      "PCA + KNN - Scores\n",
      "  Train: 0.65\n",
      "  Test : 0.55\n",
      "\n",
      "Epoch 1/30\n"
     ]
    },
    {
     "name": "stderr",
     "output_type": "stream",
     "text": [
      "c:\\Python311\\Lib\\site-packages\\sklearn\\neighbors\\_classification.py:239: DataConversionWarning: A column-vector y was passed when a 1d array was expected. Please change the shape of y to (n_samples,), for example using ravel().\n",
      "  return self._fit(X, y)\n",
      "c:\\Python311\\Lib\\site-packages\\keras\\src\\layers\\convolutional\\base_conv.py:107: UserWarning: Do not pass an `input_shape`/`input_dim` argument to a layer. When using Sequential models, prefer using an `Input(shape)` object as the first layer in the model instead.\n",
      "  super().__init__(activity_regularizer=activity_regularizer, **kwargs)\n"
     ]
    },
    {
     "name": "stdout",
     "output_type": "stream",
     "text": [
      "\u001b[1m24/24\u001b[0m \u001b[32m━━━━━━━━━━━━━━━━━━━━\u001b[0m\u001b[37m\u001b[0m \u001b[1m2s\u001b[0m 16ms/step - accuracy: 0.5080 - loss: 0.6963 - val_accuracy: 0.5000 - val_loss: 0.6937\n",
      "Epoch 2/30\n",
      "\u001b[1m24/24\u001b[0m \u001b[32m━━━━━━━━━━━━━━━━━━━━\u001b[0m\u001b[37m\u001b[0m \u001b[1m0s\u001b[0m 7ms/step - accuracy: 0.5818 - loss: 0.6866 - val_accuracy: 0.5238 - val_loss: 0.6883\n",
      "Epoch 3/30\n",
      "\u001b[1m24/24\u001b[0m \u001b[32m━━━━━━━━━━━━━━━━━━━━\u001b[0m\u001b[37m\u001b[0m \u001b[1m0s\u001b[0m 7ms/step - accuracy: 0.5824 - loss: 0.6823 - val_accuracy: 0.5238 - val_loss: 0.6854\n",
      "Epoch 4/30\n",
      "\u001b[1m24/24\u001b[0m \u001b[32m━━━━━━━━━━━━━━━━━━━━\u001b[0m\u001b[37m\u001b[0m \u001b[1m0s\u001b[0m 8ms/step - accuracy: 0.5830 - loss: 0.6784 - val_accuracy: 0.5238 - val_loss: 0.6840\n",
      "Epoch 5/30\n",
      "\u001b[1m24/24\u001b[0m \u001b[32m━━━━━━━━━━━━━━━━━━━━\u001b[0m\u001b[37m\u001b[0m \u001b[1m0s\u001b[0m 7ms/step - accuracy: 0.5955 - loss: 0.6751 - val_accuracy: 0.5238 - val_loss: 0.6820\n",
      "Epoch 6/30\n",
      "\u001b[1m24/24\u001b[0m \u001b[32m━━━━━━━━━━━━━━━━━━━━\u001b[0m\u001b[37m\u001b[0m \u001b[1m0s\u001b[0m 7ms/step - accuracy: 0.6018 - loss: 0.6724 - val_accuracy: 0.5476 - val_loss: 0.6795\n",
      "Epoch 7/30\n",
      "\u001b[1m24/24\u001b[0m \u001b[32m━━━━━━━━━━━━━━━━━━━━\u001b[0m\u001b[37m\u001b[0m \u001b[1m0s\u001b[0m 8ms/step - accuracy: 0.6272 - loss: 0.6700 - val_accuracy: 0.5714 - val_loss: 0.6796\n",
      "Epoch 8/30\n",
      "\u001b[1m24/24\u001b[0m \u001b[32m━━━━━━━━━━━━━━━━━━━━\u001b[0m\u001b[37m\u001b[0m \u001b[1m0s\u001b[0m 7ms/step - accuracy: 0.6284 - loss: 0.6674 - val_accuracy: 0.5952 - val_loss: 0.6788\n",
      "Epoch 9/30\n",
      "\u001b[1m24/24\u001b[0m \u001b[32m━━━━━━━━━━━━━━━━━━━━\u001b[0m\u001b[37m\u001b[0m \u001b[1m0s\u001b[0m 7ms/step - accuracy: 0.6311 - loss: 0.6648 - val_accuracy: 0.5952 - val_loss: 0.6790\n",
      "Epoch 10/30\n",
      "\u001b[1m24/24\u001b[0m \u001b[32m━━━━━━━━━━━━━━━━━━━━\u001b[0m\u001b[37m\u001b[0m \u001b[1m0s\u001b[0m 7ms/step - accuracy: 0.6222 - loss: 0.6623 - val_accuracy: 0.5952 - val_loss: 0.6794\n",
      "Epoch 11/30\n",
      "\u001b[1m24/24\u001b[0m \u001b[32m━━━━━━━━━━━━━━━━━━━━\u001b[0m\u001b[37m\u001b[0m \u001b[1m0s\u001b[0m 7ms/step - accuracy: 0.6297 - loss: 0.6601 - val_accuracy: 0.5952 - val_loss: 0.6802\n",
      "Epoch 12/30\n",
      "\u001b[1m24/24\u001b[0m \u001b[32m━━━━━━━━━━━━━━━━━━━━\u001b[0m\u001b[37m\u001b[0m \u001b[1m0s\u001b[0m 7ms/step - accuracy: 0.6569 - loss: 0.6576 - val_accuracy: 0.6190 - val_loss: 0.6809\n",
      "Epoch 13/30\n",
      "\u001b[1m24/24\u001b[0m \u001b[32m━━━━━━━━━━━━━━━━━━━━\u001b[0m\u001b[37m\u001b[0m \u001b[1m0s\u001b[0m 7ms/step - accuracy: 0.6571 - loss: 0.6558 - val_accuracy: 0.6190 - val_loss: 0.6832\n",
      "Epoch 14/30\n",
      "\u001b[1m24/24\u001b[0m \u001b[32m━━━━━━━━━━━━━━━━━━━━\u001b[0m\u001b[37m\u001b[0m \u001b[1m0s\u001b[0m 7ms/step - accuracy: 0.6370 - loss: 0.6536 - val_accuracy: 0.6429 - val_loss: 0.6849\n",
      "Epoch 15/30\n",
      "\u001b[1m24/24\u001b[0m \u001b[32m━━━━━━━━━━━━━━━━━━━━\u001b[0m\u001b[37m\u001b[0m \u001b[1m0s\u001b[0m 7ms/step - accuracy: 0.6428 - loss: 0.6515 - val_accuracy: 0.6429 - val_loss: 0.6873\n",
      "Epoch 16/30\n",
      "\u001b[1m24/24\u001b[0m \u001b[32m━━━━━━━━━━━━━━━━━━━━\u001b[0m\u001b[37m\u001b[0m \u001b[1m0s\u001b[0m 9ms/step - accuracy: 0.6452 - loss: 0.6495 - val_accuracy: 0.6190 - val_loss: 0.6896\n",
      "Epoch 17/30\n",
      "\u001b[1m24/24\u001b[0m \u001b[32m━━━━━━━━━━━━━━━━━━━━\u001b[0m\u001b[37m\u001b[0m \u001b[1m0s\u001b[0m 8ms/step - accuracy: 0.6530 - loss: 0.6472 - val_accuracy: 0.5952 - val_loss: 0.6919\n",
      "Epoch 18/30\n",
      "\u001b[1m24/24\u001b[0m \u001b[32m━━━━━━━━━━━━━━━━━━━━\u001b[0m\u001b[37m\u001b[0m \u001b[1m0s\u001b[0m 7ms/step - accuracy: 0.6465 - loss: 0.6455 - val_accuracy: 0.5952 - val_loss: 0.6936\n",
      "Epoch 19/30\n",
      "\u001b[1m24/24\u001b[0m \u001b[32m━━━━━━━━━━━━━━━━━━━━\u001b[0m\u001b[37m\u001b[0m \u001b[1m0s\u001b[0m 7ms/step - accuracy: 0.6508 - loss: 0.6436 - val_accuracy: 0.5952 - val_loss: 0.6951\n",
      "Epoch 20/30\n",
      "\u001b[1m24/24\u001b[0m \u001b[32m━━━━━━━━━━━━━━━━━━━━\u001b[0m\u001b[37m\u001b[0m \u001b[1m0s\u001b[0m 8ms/step - accuracy: 0.6506 - loss: 0.6415 - val_accuracy: 0.5952 - val_loss: 0.6978\n",
      "Epoch 21/30\n",
      "\u001b[1m24/24\u001b[0m \u001b[32m━━━━━━━━━━━━━━━━━━━━\u001b[0m\u001b[37m\u001b[0m \u001b[1m0s\u001b[0m 7ms/step - accuracy: 0.6501 - loss: 0.6392 - val_accuracy: 0.5952 - val_loss: 0.7008\n",
      "Epoch 22/30\n",
      "\u001b[1m24/24\u001b[0m \u001b[32m━━━━━━━━━━━━━━━━━━━━\u001b[0m\u001b[37m\u001b[0m \u001b[1m0s\u001b[0m 7ms/step - accuracy: 0.6518 - loss: 0.6371 - val_accuracy: 0.5952 - val_loss: 0.7035\n",
      "Epoch 23/30\n",
      "\u001b[1m24/24\u001b[0m \u001b[32m━━━━━━━━━━━━━━━━━━━━\u001b[0m\u001b[37m\u001b[0m \u001b[1m0s\u001b[0m 7ms/step - accuracy: 0.6442 - loss: 0.6346 - val_accuracy: 0.5952 - val_loss: 0.7070\n",
      "Epoch 24/30\n",
      "\u001b[1m24/24\u001b[0m \u001b[32m━━━━━━━━━━━━━━━━━━━━\u001b[0m\u001b[37m\u001b[0m \u001b[1m0s\u001b[0m 7ms/step - accuracy: 0.6447 - loss: 0.6329 - val_accuracy: 0.5952 - val_loss: 0.7094\n",
      "Epoch 25/30\n",
      "\u001b[1m24/24\u001b[0m \u001b[32m━━━━━━━━━━━━━━━━━━━━\u001b[0m\u001b[37m\u001b[0m \u001b[1m0s\u001b[0m 8ms/step - accuracy: 0.6397 - loss: 0.6310 - val_accuracy: 0.5952 - val_loss: 0.7105\n",
      "Epoch 26/30\n",
      "\u001b[1m24/24\u001b[0m \u001b[32m━━━━━━━━━━━━━━━━━━━━\u001b[0m\u001b[37m\u001b[0m \u001b[1m0s\u001b[0m 7ms/step - accuracy: 0.6366 - loss: 0.6288 - val_accuracy: 0.5952 - val_loss: 0.7127\n",
      "Epoch 27/30\n",
      "\u001b[1m24/24\u001b[0m \u001b[32m━━━━━━━━━━━━━━━━━━━━\u001b[0m\u001b[37m\u001b[0m \u001b[1m0s\u001b[0m 10ms/step - accuracy: 0.6475 - loss: 0.6273 - val_accuracy: 0.5952 - val_loss: 0.7149\n",
      "Epoch 28/30\n",
      "\u001b[1m24/24\u001b[0m \u001b[32m━━━━━━━━━━━━━━━━━━━━\u001b[0m\u001b[37m\u001b[0m \u001b[1m0s\u001b[0m 7ms/step - accuracy: 0.6411 - loss: 0.6251 - val_accuracy: 0.5952 - val_loss: 0.7176\n",
      "Epoch 29/30\n",
      "\u001b[1m24/24\u001b[0m \u001b[32m━━━━━━━━━━━━━━━━━━━━\u001b[0m\u001b[37m\u001b[0m \u001b[1m0s\u001b[0m 7ms/step - accuracy: 0.6462 - loss: 0.6233 - val_accuracy: 0.5952 - val_loss: 0.7200\n",
      "Epoch 30/30\n",
      "\u001b[1m24/24\u001b[0m \u001b[32m━━━━━━━━━━━━━━━━━━━━\u001b[0m\u001b[37m\u001b[0m \u001b[1m0s\u001b[0m 7ms/step - accuracy: 0.6462 - loss: 0.6214 - val_accuracy: 0.5952 - val_loss: 0.7226\n",
      "\u001b[1m4/4\u001b[0m \u001b[32m━━━━━━━━━━━━━━━━━━━━\u001b[0m\u001b[37m\u001b[0m \u001b[1m0s\u001b[0m 8ms/step - accuracy: 0.6135 - loss: 0.6847 \n",
      "\n",
      "CNN (1D) - Test accuracy: 0.60\n"
     ]
    }
   ],
   "source": [
    "#knn\n",
    "knn = KNeighborsClassifier(n_neighbors=10)\n",
    "knn.fit(X_train_bin, y_train_bin)\n",
    "print(\"KNN - Scores\")\n",
    "print(\"Training set score: {:.2f}\".format(knn.score(X_train_bin, y_train_bin)))\n",
    "print(\"Test set score of knn: {:.2f}\\n\".format(knn.score(X_test_bin, y_test_bin)))\n",
    "\n",
    "#Logistic Regression\n",
    "log_reg = LogisticRegression(solver= 'liblinear',  C=100,max_iter= 10000)\n",
    "log_reg.fit(X_train_bin, y_train_bin) \n",
    "y_pred = log_reg.predict(X_test_bin)\n",
    "print(\"Logistic Regression - Scores\")\n",
    "print(\"Training set score: {:.2f}\".format(log_reg.score(X_train_bin, y_train_bin)))\n",
    "print(\"Test set score: {:.2f}\\n\".format(log_reg.score(X_test_bin, y_test_bin)))\n",
    "\n",
    "\n",
    "#SVM\n",
    "svm = SVC(kernel='rbf', C=1000, tol=0.1 )\n",
    "svm.fit(X_train_bin, y_train_bin)\n",
    "y_pred_svm = svm.predict(X_test_bin)\n",
    "print(\"SVM - Scores\")\n",
    "print(\"Training set score: {:.2f}\".format(svm.score(X_train_bin, y_train_bin)))\n",
    "print(\"Test set score: {:.2f}\\n\".format(svm.score(X_test_bin, y_test_bin)))\n",
    "\n",
    "#MLP\n",
    "mlp = MLPClassifier(hidden_layer_sizes=(100,), max_iter=1000, random_state=42)\n",
    "mlp.fit(X_train_bin, y_train_bin)\n",
    "y_pred_mlp = mlp.predict(X_test_bin)\n",
    "print(\"MLP - Scores\")\n",
    "print(\"Training set score: {:.2f}\".format(mlp.score(X_train_bin, y_train_bin)))\n",
    "print(\"Test set score: {:.2f}\\n\".format(mlp.score(X_test_bin, y_test_bin)))\n",
    "\n",
    "#PCA + KNN\n",
    "#standardize first\n",
    "scaler = StandardScaler()\n",
    "X_train_scaled = scaler.fit_transform(X_train_bin)\n",
    "X_test_scaled  = scaler.transform(X_test_bin)\n",
    "\n",
    "#Fit PCA\n",
    "pca = PCA(n_components=2)\n",
    "X_train_pca = pca.fit_transform(X_train_scaled)\n",
    "X_test_pca  = pca.transform(X_test_scaled)\n",
    "\n",
    "#train using knn\n",
    "pca_knn = KNeighborsClassifier(n_neighbors=10)\n",
    "pca_knn.fit(X_train_pca, y_train_bin)\n",
    "print(\"PCA + KNN - Scores\")\n",
    "print(\"  Train: {:.2f}\".format(pca_knn.score(X_train_pca, y_train_bin)))\n",
    "print(\"  Test : {:.2f}\\n\".format(pca_knn.score(X_test_pca,  y_test_bin)))\n",
    "\n",
    "# reshape\n",
    "n_features = X_train_scaled.shape[1]\n",
    "X_train_cnn = X_train_scaled.reshape(-1, n_features, 1)\n",
    "X_test_cnn  = X_test_scaled.reshape(-1, n_features, 1)\n",
    "\n",
    "# Build model\n",
    "tf.random.set_seed(42)\n",
    "cnn_model = tf.keras.Sequential([\n",
    "    tf.keras.layers.Conv1D(filters=32, kernel_size=2, activation='relu', input_shape=(n_features, 1)),\n",
    "    tf.keras.layers.MaxPooling1D(pool_size=2),\n",
    "    tf.keras.layers.Conv1D(filters=16, kernel_size=2, activation='relu'),\n",
    "    tf.keras.layers.GlobalMaxPooling1D(),\n",
    "    tf.keras.layers.Dense(32, activation='relu'),\n",
    "    tf.keras.layers.Dense(1, activation='sigmoid')\n",
    "])\n",
    "cnn_model.compile(optimizer='adam',loss='binary_crossentropy', metrics=['accuracy'])\n",
    "\n",
    "# Train\n",
    "history = cnn_model.fit(X_train_cnn, y_train_bin.values, epochs=30, batch_size=16, validation_split=0.1,verbose=1\n",
    ")\n",
    "\n",
    "# Evaluate on test\n",
    "test_loss, test_acc = cnn_model.evaluate(X_test_cnn, y_test_bin.values)\n",
    "print(f\"\\nCNN (1D) - Test accuracy: {test_acc:.2f}\")\n"
   ]
  },
  {
   "cell_type": "markdown",
   "metadata": {},
   "source": [
    "Classification does not perform well with just an even split, but as we change the threshold value and start grouping the no fire and the small fire records together we steadily get more accurate."
   ]
  },
  {
   "cell_type": "code",
   "execution_count": 131,
   "metadata": {},
   "outputs": [
    {
     "name": "stdout",
     "output_type": "stream",
     "text": [
      "Number of fire cases (1): 95\n",
      "Number of no-fire cases (0): 422\n",
      "KNN - Scores\n",
      "Training set score: 0.82\n",
      "Test set score of knn: 0.80\n",
      "\n",
      "Logistic Regression - Scores\n",
      "Training set score: 0.82\n",
      "Test set score: 0.80\n",
      "\n",
      "SVM - Scores\n",
      "Training set score: 0.82\n",
      "Test set score: 0.80\n",
      "\n",
      "MLP - Scores\n",
      "Training set score: 0.82\n",
      "Test set score: 0.80\n",
      "\n",
      "PCA + KNN - Scores\n"
     ]
    },
    {
     "name": "stderr",
     "output_type": "stream",
     "text": [
      "c:\\Python311\\Lib\\site-packages\\sklearn\\neighbors\\_classification.py:239: DataConversionWarning: A column-vector y was passed when a 1d array was expected. Please change the shape of y to (n_samples,), for example using ravel().\n",
      "  return self._fit(X, y)\n",
      "c:\\Python311\\Lib\\site-packages\\sklearn\\utils\\validation.py:1408: DataConversionWarning: A column-vector y was passed when a 1d array was expected. Please change the shape of y to (n_samples, ), for example using ravel().\n",
      "  y = column_or_1d(y, warn=True)\n",
      "c:\\Python311\\Lib\\site-packages\\sklearn\\utils\\validation.py:1408: DataConversionWarning: A column-vector y was passed when a 1d array was expected. Please change the shape of y to (n_samples, ), for example using ravel().\n",
      "  y = column_or_1d(y, warn=True)\n",
      "c:\\Python311\\Lib\\site-packages\\sklearn\\neural_network\\_multilayer_perceptron.py:1124: DataConversionWarning: A column-vector y was passed when a 1d array was expected. Please change the shape of y to (n_samples, ), for example using ravel().\n",
      "  y = column_or_1d(y, warn=True)\n",
      "c:\\Python311\\Lib\\site-packages\\sklearn\\neighbors\\_classification.py:239: DataConversionWarning: A column-vector y was passed when a 1d array was expected. Please change the shape of y to (n_samples,), for example using ravel().\n",
      "  return self._fit(X, y)\n"
     ]
    },
    {
     "name": "stdout",
     "output_type": "stream",
     "text": [
      "  Train: 0.82\n",
      "  Test : 0.80\n",
      "\n"
     ]
    }
   ],
   "source": [
    "#transform to either 0 or 1\n",
    "Y_bin = Y.copy()\n",
    "#Y_bin['area'] = (Y_bin['area'] != 0).astype(int)\n",
    "threshold = 10\n",
    "Y_bin[Y_bin <= threshold] = 0\n",
    "Y_bin[Y_bin > threshold] = 1\n",
    "\n",
    "# Split into training and test sets for classification\n",
    "X_train_bin, X_test_bin, y_train_bin, y_test_bin = train_test_split(\n",
    "    X, Y_bin, test_size=0.2, random_state=42\n",
    ")\n",
    "\n",
    "print(\"Number of fire cases (1):\", (Y_bin['area'] == 1).sum())\n",
    "print(\"Number of no-fire cases (0):\", (Y_bin['area'] == 0).sum())\n",
    "\n",
    "#knn\n",
    "knn = KNeighborsClassifier(n_neighbors=10)\n",
    "knn.fit(X_train_bin, y_train_bin)\n",
    "print(\"KNN - Scores\")\n",
    "print(\"Training set score: {:.2f}\".format(knn.score(X_train_bin, y_train_bin)))\n",
    "print(\"Test set score of knn: {:.2f}\\n\".format(knn.score(X_test_bin, y_test_bin)))\n",
    "\n",
    "#Logistic Regression\n",
    "log_reg = LogisticRegression(solver= 'liblinear',  C=100,max_iter= 10000)\n",
    "log_reg.fit(X_train_bin, y_train_bin) \n",
    "y_pred = log_reg.predict(X_test_bin)\n",
    "print(\"Logistic Regression - Scores\")\n",
    "print(\"Training set score: {:.2f}\".format(log_reg.score(X_train_bin, y_train_bin)))\n",
    "print(\"Test set score: {:.2f}\\n\".format(log_reg.score(X_test_bin, y_test_bin)))\n",
    "\n",
    "#SVM\n",
    "svm = SVC(kernel='rbf', C=1000, tol=0.1 )\n",
    "svm.fit(X_train_bin, y_train_bin)\n",
    "y_pred_svm = svm.predict(X_test_bin)\n",
    "print(\"SVM - Scores\")\n",
    "print(\"Training set score: {:.2f}\".format(svm.score(X_train_bin, y_train_bin)))\n",
    "print(\"Test set score: {:.2f}\\n\".format(svm.score(X_test_bin, y_test_bin)))\n",
    "\n",
    "#MLP\n",
    "mlp = MLPClassifier(hidden_layer_sizes=(100,), max_iter=1000, random_state=42)\n",
    "mlp.fit(X_train_bin, y_train_bin)\n",
    "y_pred_mlp = mlp.predict(X_test_bin)\n",
    "print(\"MLP - Scores\")\n",
    "print(\"Training set score: {:.2f}\".format(mlp.score(X_train_bin, y_train_bin)))\n",
    "print(\"Test set score: {:.2f}\\n\".format(mlp.score(X_test_bin, y_test_bin)))\n",
    "\n",
    "#PCA + KNN\n",
    "#standardize first\n",
    "scaler = StandardScaler()\n",
    "X_train_scaled = scaler.fit_transform(X_train_bin)\n",
    "X_test_scaled  = scaler.transform(X_test_bin)\n",
    "\n",
    "#Fit PCA\n",
    "pca = PCA(n_components=2)\n",
    "X_train_pca = pca.fit_transform(X_train_scaled)\n",
    "X_test_pca  = pca.transform(X_test_scaled)\n",
    "\n",
    "#train using knn\n",
    "pca_knn = KNeighborsClassifier(n_neighbors=10)\n",
    "pca_knn.fit(X_train_pca, y_train_bin)\n",
    "print(\"PCA + KNN - Scores\")\n",
    "print(\"  Train: {:.2f}\".format(pca_knn.score(X_train_pca, y_train_bin)))\n",
    "print(\"  Test : {:.2f}\\n\".format(pca_knn.score(X_test_pca,  y_test_bin)))\n",
    "\n",
    "\n"
   ]
  },
  {
   "cell_type": "markdown",
   "metadata": {},
   "source": [
    "Let's check the predicted values and see if the model is predicting only 0's or only 1's."
   ]
  },
  {
   "cell_type": "code",
   "execution_count": 129,
   "metadata": {},
   "outputs": [
    {
     "name": "stdout",
     "output_type": "stream",
     "text": [
      "     Actual  Predicted\n",
      "304     0.0        0.0\n",
      "501     0.0        0.0\n",
      "441     0.0        0.0\n",
      "153     0.0        0.0\n",
      "503     0.0        0.0\n",
      "131     0.0        0.0\n",
      "204     1.0        0.0\n",
      "512     0.0        0.0\n",
      "325     0.0        0.0\n",
      "247     0.0        0.0\n",
      "Predicted  0.0\n",
      "Actual        \n",
      "0.0         83\n",
      "1.0         21\n"
     ]
    }
   ],
   "source": [
    "# Assume y_test_bin is a pandas Series (or you can wrap your array in one)\n",
    "results = pd.DataFrame({\n",
    "    'Actual':    y_test_bin['area'].values, \n",
    "    'Predicted': y_pred\n",
    "}, index=y_test_bin.index)\n",
    "\n",
    "# Show the first 10 rows side-by-side\n",
    "print(results.head(10))\n",
    "# Show count of each combination (Actual vs. Predicted)\n",
    "print(pd.crosstab(results['Actual'], results['Predicted'],\n",
    "                  rownames=['Actual'], colnames=['Predicted']))"
   ]
  },
  {
   "cell_type": "markdown",
   "metadata": {},
   "source": [
    "## Classification Conclusion\n",
    "\n",
    "It would appear that clustering the small & non-zero fire instances has a positive impact on our classification model. At first I believed that this was because the model would default to randomly guessing 0 even when the threshold was lower and because of that when the nonzero groups gets smaller the model gets lucky but it appears that as the threshold gets larger, and we start treating small fires similar to no fire instances, models across the board are able to more accurately predict the area. "
   ]
  }
 ],
 "metadata": {
  "colab": {
   "authorship_tag": "ABX9TyPz6Wc0QkVgnZEOQH02FsDH",
   "include_colab_link": true,
   "provenance": [],
   "toc_visible": true
  },
  "kernelspec": {
   "display_name": "Python 3",
   "language": "python",
   "name": "python3"
  },
  "language_info": {
   "codemirror_mode": {
    "name": "ipython",
    "version": 3
   },
   "file_extension": ".py",
   "mimetype": "text/x-python",
   "name": "python",
   "nbconvert_exporter": "python",
   "pygments_lexer": "ipython3",
   "version": "3.11.5"
  }
 },
 "nbformat": 4,
 "nbformat_minor": 4
}
