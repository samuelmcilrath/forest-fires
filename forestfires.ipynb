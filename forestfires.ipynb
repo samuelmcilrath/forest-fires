{
 "cells": [
  {
   "cell_type": "markdown",
   "metadata": {
    "colab_type": "text",
    "id": "view-in-github"
   },
   "source": [
    "<a href=\"https://colab.research.google.com/github/samuelmcilrath/forest-fires/blob/main/forestfires.ipynb\" target=\"_parent\"><img src=\"https://colab.research.google.com/assets/colab-badge.svg\" alt=\"Open In Colab\"/></a>"
   ]
  },
  {
   "cell_type": "markdown",
   "metadata": {},
   "source": [
    "# Forest Fire Regression - Sam McIlrath and Olivia Creighton\n",
    "\n",
    "## Data\n",
    "Forest fires are highly detrimental to various communities and ecosystems. Their spread is determined by a variety of factors, including weather, topography, and ground cover. We wanted to determine if meteorological data and data on the ground cover could predict the spread of a forest fire. \n",
    "\n",
    "Features include:\n",
    "\n",
    "**X, Y**: Spatial coordinates within a Monteshino Park map\n",
    "\n",
    "**Month, day**: \"jan\" to \"dec\" and \"mon\" to \"sun\"\n",
    "\n",
    "**FFMC**: Fine Fuel Moisture Code; the amount of moisture in the litter/fuel on the ground; relative measure of ease of ignition and flammability\n",
    "\n",
    "**DMC**: Duff Moisture Code; the amount of moisture in the top layer of soil\n",
    "\n",
    "**DC**: Drought Code; the amount of moisture of deeper soil\n",
    "\n",
    "**ISI**: Initial Spread Index; expected rate of fire spread, based on windspeed and FFMC\n",
    "\n",
    "**Temp**: Temperature in Celsius degrees\n",
    "\n",
    "**RH**: Relative humidity in %\n",
    "\n",
    "**Wind**: Wind speed in km/h\n",
    "\n",
    "**Rain**: Outside rain in mm/m2\n",
    "\n",
    "**Area**: Burned area in hectares\n",
    "\n",
    "FFMC, DMC, and DC according to the FWI (https://cwfis.cfs.nrcan.gc.ca/background/summary/fwi)"
   ]
  },
  {
   "cell_type": "code",
   "execution_count": 175,
   "metadata": {},
   "outputs": [
    {
     "name": "stdout",
     "output_type": "stream",
     "text": [
      "First 5 records: \n",
      "    X  Y month  day  FFMC   DMC     DC  ISI  temp  RH  wind  rain  area\n",
      "0  7  5   mar  fri  86.2  26.2   94.3  5.1   8.2  51   6.7   0.0   0.0\n",
      "1  7  4   oct  tue  90.6  35.4  669.1  6.7  18.0  33   0.9   0.0   0.0\n",
      "2  7  4   oct  sat  90.6  43.7  686.9  6.7  14.6  33   1.3   0.0   0.0\n",
      "3  8  6   mar  fri  91.7  33.3   77.5  9.0   8.3  97   4.0   0.2   0.0\n",
      "4  8  6   mar  sun  89.3  51.3  102.2  9.6  11.4  99   1.8   0.0   0.0\n"
     ]
    }
   ],
   "source": [
    "import pandas as pd\n",
    "import numpy as np\n",
    "import matplotlib.pyplot as plt\n",
    "#import seaborn as sns\n",
    "\n",
    "import sklearn\n",
    "\n",
    "from sklearn.linear_model import LinearRegression, Lasso, Ridge, LogisticRegression\n",
    "from sklearn.ensemble import RandomForestRegressor\n",
    "from sklearn.neural_network import MLPRegressor\n",
    "from sklearn.svm import SVR, SVC\n",
    "from sklearn.neighbors import KNeighborsRegressor\n",
    "from sklearn.preprocessing import StandardScaler\n",
    "from sklearn.decomposition import PCA\n",
    "from sklearn.mixture import GaussianMixture\n",
    "from sklearn.neural_network import MLPClassifier\n",
    "from sklearn.model_selection import train_test_split\n",
    "from sklearn.metrics import mean_squared_error, mean_absolute_error, r2_score, accuracy_score, precision_score, recall_score, f1_score\n",
    "\n",
    "\n",
    "import matplotlib.pyplot as plt\n",
    "%matplotlib inline\n",
    "\n",
    "# Set the path to the file you'd like to load\n",
    "file_path = \"C:\\MAIN\\School\\ML\\Sem Proj\\forest-fires\\forestfires.ipynb\"\n",
    "\n",
    "# Load the latest version\n",
    "forest_fires = pd.read_csv(\"forestfires_dataset.csv\")\n",
    "\n",
    "print(\"First 5 records: \\n\", forest_fires.head())\n",
    "  "
   ]
  },
  {
   "cell_type": "markdown",
   "metadata": {},
   "source": [
    "### Data Transformation"
   ]
  },
  {
   "cell_type": "code",
   "execution_count": 176,
   "metadata": {},
   "outputs": [],
   "source": [
    "###Transform Data - get splits\n",
    "forest_fires = forest_fires.drop(columns=['month', 'day']) #drop month and day columns\n",
    "\n",
    "X = forest_fires.drop(columns=['area', 'X', 'Y'])\n",
    "Y = forest_fires[['area']]\n",
    "\n",
    "Y_log = np.log1p(Y) #skewed to 0, apply log \n",
    "\n",
    "# Standardize numerical features - this standardizes mean to 0\n",
    "scaler = StandardScaler()\n",
    "X_scaled = scaler.fit_transform(X)\n",
    "\n",
    "# Split into training and test sets\n",
    "X_train, X_test, y_train_log, y_test_log = train_test_split(\n",
    "    X_scaled, Y_log, test_size=0.2, random_state=42\n",
    ")\n",
    "\n",
    "# Split into training and test sets\n",
    "X_train_base, X_test_base, y_train, y_test = train_test_split(\n",
    "    X_scaled, Y, test_size=0.2, random_state=42\n",
    ")\n",
    "##note \n",
    "#if going with classifier, try to make amounts of nonburn to burn "
   ]
  },
  {
   "cell_type": "code",
   "execution_count": 177,
   "metadata": {},
   "outputs": [
    {
     "name": "stdout",
     "output_type": "stream",
     "text": [
      "247\n",
      "Number of zeros in area column: 247\n",
      "Total number of rows: 517\n"
     ]
    }
   ],
   "source": [
    "### Data Transformation\n",
    "count = 0\n",
    "for i in forest_fires['area']:\n",
    "    if i == 0:\n",
    "        count += 1\n",
    "print(count)    \n",
    "\n",
    "# Count zeros in the area column\n",
    "zero_count = (forest_fires['area'] == 0).sum()\n",
    "print(f\"Number of zeros in area column: {zero_count}\")\n",
    "\n",
    "# Let's also see the total number of rows for comparison\n",
    "total_rows = len(forest_fires)\n",
    "print(f\"Total number of rows: {total_rows}\")\n"
   ]
  },
  {
   "cell_type": "code",
   "execution_count": 178,
   "metadata": {},
   "outputs": [
    {
     "data": {
      "image/png": "[encoded data removed]",
      "text/plain": [
       "<Figure size 1400x400 with 2 Axes>"
      ]
     },
     "metadata": {},
     "output_type": "display_data"
    }
   ],
   "source": [
    "# Create two subplots side by side\n",
    "fig, (ax1, ax2) = plt.subplots(1, 2, figsize=(14, 4))\n",
    "\n",
    "# Original distribution\n",
    "ax1.hist(forest_fires['area'], bins=30)\n",
    "ax1.set_title('Original Area Distribution')\n",
    "ax1.set_xlabel('Area (hectares)')\n",
    "ax1.set_ylabel('Frequency')\n",
    "\n",
    "# Log-transformed distribution\n",
    "ax2.hist(np.log1p(forest_fires['area']), bins=30, color='orange')\n",
    "ax2.set_title('Log-transformed Area Distribution')\n",
    "ax2.set_xlabel('log(Area + 1)')\n",
    "ax2.set_ylabel('Frequency')\n",
    "\n",
    "plt.show()"
   ]
  },
  {
   "cell_type": "markdown",
   "metadata": {},
   "source": [
    "## Regression Models"
   ]
  },
  {
   "cell_type": "code",
   "execution_count": 179,
   "metadata": {},
   "outputs": [
    {
     "name": "stdout",
     "output_type": "stream",
     "text": [
      "\n",
      "Linear Regression Performance -----------\n",
      "-> log transformed\n",
      "Training set score: 0.02\n",
      "Test set score: 0.00\n",
      "RMSE: 109.960\n",
      "MAE: 19.807\n",
      "R²: -0.026\n",
      "-> no transformation\n",
      "Training set score: -0.05\n",
      "Test set score: -0.03\n",
      "RMSE: 110.135\n",
      "MAE: 19.669\n",
      "R²: -0.029\n",
      "\n",
      "Ridge Regression Performance -----------\n",
      "-> log transformed\n",
      "Training set score: 0.02\n",
      "Test set score: 0.00\n",
      "RMSE: 109.960\n",
      "MAE: 19.807\n",
      "R²: -0.026\n",
      "-> no transformation\n",
      "Training set score: -0.05\n",
      "Test set score: -0.03\n",
      "RMSE: 110.135\n",
      "MAE: 19.669\n",
      "R²: -0.029\n",
      "\n",
      "Lasso Regression Performance -----------\n",
      "-> log transformed\n",
      "Training set score: 0.00\n",
      "Test set score: -0.00\n",
      "RMSE: 109.995\n",
      "MAE: 19.819\n",
      "R²: -0.026\n",
      "-> no transformation\n",
      "Training set score: -0.05\n",
      "Test set score: -0.03\n",
      "RMSE: 110.145\n",
      "MAE: 19.679\n",
      "R²: -0.029\n"
     ]
    },
    {
     "name": "stderr",
     "output_type": "stream",
     "text": [
      "c:\\Python311\\Lib\\site-packages\\sklearn\\neural_network\\_multilayer_perceptron.py:1650: DataConversionWarning: A column-vector y was passed when a 1d array was expected. Please change the shape of y to (n_samples, ), for example using ravel().\n",
      "  y = column_or_1d(y, warn=True)\n"
     ]
    },
    {
     "name": "stdout",
     "output_type": "stream",
     "text": [
      "\n",
      "Neural Network (MLPRegressor) Performance -----------\n",
      "-> log transformed\n",
      "Training set score: 0.01\n",
      "Test set score: 0.02\n",
      "RMSE: 109.969\n",
      "MAE: 19.738\n",
      "R²: -0.026\n",
      "-> no transformation\n",
      "Training set score: -0.05\n",
      "Test set score: -0.03\n",
      "RMSE: 110.138\n",
      "MAE: 19.650\n",
      "R²: -0.029\n"
     ]
    }
   ],
   "source": [
    "# A helper function to evaluate models\n",
    "def evaluate_model(model, X_train, y_train, X_test, y_test, is_log_transformed=True):\n",
    "    # Get predictions\n",
    "    y_pred = model.predict(X_test)\n",
    "    \n",
    "    if is_log_transformed:\n",
    "        # For log-transformed data, convert back to original scale\n",
    "        y_pred = np.expm1(y_pred)\n",
    "        y_true = np.expm1(y_test)\n",
    "    else:\n",
    "        # For non-transformed data, use as is\n",
    "        y_true = y_test\n",
    "    \n",
    "    print(\"Training set score: {:.2f}\".format(model.score(X_train, y_train)))\n",
    "    print(\"Test set score: {:.2f}\".format(model.score(X_test, y_test)))\n",
    "    rmse = np.sqrt(mean_squared_error(y_true, y_pred))\n",
    "    mae = mean_absolute_error(y_true, y_pred)\n",
    "    r2 = r2_score(y_true, y_pred)\n",
    "    \n",
    "    print(f'RMSE: {rmse:.3f}')\n",
    "    print(f'MAE: {mae:.3f}')\n",
    "    print(f'R²: {r2:.3f}')\n",
    "    return y_pred\n",
    "\n",
    "#Linear Regression\n",
    "lin_reg = LinearRegression()\n",
    "lin_reg.fit(X_train, y_train_log)\n",
    "print(\"\\nLinear Regression Performance -----------\")\n",
    "print(\"-> log transformed\")\n",
    "lin_y_pred = evaluate_model(lin_reg, X_train, y_train_log, X_test, y_test_log, is_log_transformed=True)\n",
    "print(\"-> no transformation\")\n",
    "lin_y_pred = evaluate_model(lin_reg, X_train, y_train, X_test, y_test, is_log_transformed=False)\n",
    "\n",
    "#Ridge Regression (regularized linear model)\n",
    "ridge = Ridge(alpha=0.1)\n",
    "ridge.fit(X_train, y_train_log)\n",
    "print(\"\\nRidge Regression Performance -----------\")\n",
    "print(\"-> log transformed\")\n",
    "ridge_y_pred = evaluate_model(ridge, X_train, y_train_log, X_test, y_test_log, is_log_transformed=True)\n",
    "print(\"-> no transformation\")\n",
    "ridge_y_pred = evaluate_model(ridge, X_train, y_train, X_test, y_test, is_log_transformed=False)\n",
    "\n",
    "#Lasso Regression \n",
    "lasso = Lasso(alpha=0.1)\n",
    "lasso.fit(X_train, y_train_log)\n",
    "print(\"\\nLasso Regression Performance -----------\")\n",
    "print(\"-> log transformed\")\n",
    "lasso_y_pred = evaluate_model(lasso, X_train, y_train_log, X_test, y_test_log, is_log_transformed=True)\n",
    "print(\"-> no transformation\")\n",
    "lasso_y_pred = evaluate_model(lasso, X_train, y_train, X_test, y_test, is_log_transformed=False)\n",
    "\n",
    "# Neural Network with MLPRegressor\n",
    "mlp_reg = MLPRegressor(solver=\"adam\", hidden_layer_sizes=(100), activation='logistic')\n",
    "mlp_reg.fit(X_train, y_train_log)\n",
    "print(\"\\nNeural Network (MLPRegressor) Performance -----------\")\n",
    "print(\"-> log transformed\")\n",
    "mlp_y_pred = evaluate_model(mlp_reg, X_train, y_train_log, X_test, y_test_log, is_log_transformed=True)\n",
    "print(\"-> no transformation\")\n",
    "mlp_y_pred = evaluate_model(mlp_reg, X_train, y_train, X_test, y_test, is_log_transformed=False)"
   ]
  },
  {
   "cell_type": "markdown",
   "metadata": {},
   "source": [
    "# Ground vs. Weather\n",
    "Some of the figures seem to be related to ground condition, while others are related to weather conditions. Do these different sets of factors affect the regression differently?"
   ]
  },
  {
   "cell_type": "code",
   "execution_count": 180,
   "metadata": {},
   "outputs": [
    {
     "name": "stdout",
     "output_type": "stream",
     "text": [
      "Index(['FFMC', 'DMC', 'DC', 'ISI', 'temp', 'RH', 'wind', 'rain'], dtype='object')\n",
      "Index(['FFMC', 'DMC', 'DC', 'ISI'], dtype='object')\n",
      "Index(['temp', 'RH', 'wind', 'rain'], dtype='object')\n",
      "Ground training set R^2: 0.01\n",
      "Ground test set R^2: -0.00\n",
      "Weather training set R^2: 0.01\n",
      "Weather test set R^2: 0.00\n"
     ]
    }
   ],
   "source": [
    "X_ground = forest_fires.drop(columns=['X','Y','wind','rain','temp','RH','area'])\n",
    "X_weather = forest_fires.drop(columns=['X','Y','FFMC','DMC','DC','ISI','area'])\n",
    "\n",
    "print(X.columns)\n",
    "print(X_ground.columns)\n",
    "print(X_weather.columns)\n",
    "\n",
    "X_gscaled = scaler.fit_transform(X_ground)\n",
    "X_wscaled = scaler.fit_transform(X_weather)\n",
    "\n",
    "X_train, X_test, y_train_log, y_test_log = train_test_split(\n",
    "    X_gscaled, Y_log\n",
    ")\n",
    "\n",
    "groundlr = LinearRegression().fit(X_train, y_train_log)\n",
    "\n",
    "print(\"Ground training set R^2: {:.2f}\".format(groundlr.score(X_train, y_train_log)))\n",
    "print(\"Ground test set R^2: {:.2f}\".format(groundlr.score(X_test, y_test_log)))\n",
    "\n",
    "X_train, X_test, y_train_log, y_test_log = train_test_split(\n",
    "    X_wscaled, Y_log\n",
    ")\n",
    "\n",
    "weatherlr = LinearRegression().fit(X_train, y_train_log)\n",
    "\n",
    "print(\"Weather training set R^2: {:.2f}\".format(weatherlr.score(X_train, y_train_log)))\n",
    "print(\"Weather test set R^2: {:.2f}\".format(weatherlr.score(X_test, y_test_log)))\n",
    "\n",
    "#Somehow make a function that displays each combo of factors against each other"
   ]
  },
  {
   "cell_type": "markdown",
   "metadata": {},
   "source": [
    "## Analyzing Correlations\n",
    "After looking at these scores and their lackluster results we decided to check the correltations between the attributes and the target area."
   ]
  },
  {
   "cell_type": "code",
   "execution_count": 181,
   "metadata": {},
   "outputs": [
    {
     "data": {
      "image/png": "[encoded data removed]",
      "text/plain": [
       "<Figure size 1000x600 with 1 Axes>"
      ]
     },
     "metadata": {},
     "output_type": "display_data"
    }
   ],
   "source": [
    "# Calculate correlations\n",
    "correlation_matrix = forest_fires.corr()\n",
    "\n",
    "plt.figure(figsize=(10, 6))\n",
    "# Create bar plot of correlations with area\n",
    "area_correlations = correlation_matrix['area'].drop('area')\n",
    "area_correlations.sort_values().plot(kind='bar', color='skyblue')\n",
    "plt.title('Correlation of Features with Fire Area')\n",
    "plt.xlabel('Features')\n",
    "plt.ylabel('Correlation Coefficient')\n",
    "plt.xticks(rotation=45)\n",
    "plt.tight_layout()\n",
    "plt.show()"
   ]
  },
  {
   "cell_type": "markdown",
   "metadata": {},
   "source": [
    "# Switching to Binary Classification\n",
    "\n",
    "It is clear that regression simply won't work with the given correlations, or at least with the models that we have learned about. Given that a large portion of our target values are 0, it makes a lot of sense to switch this from a regression problem to binary classification where our two classes are area values of 0 and nonzero. This essentially makes it a question of, given certain weather conditions has or hasn't a fire occured?\n",
    "\n",
    "## Data Transformation\n",
    "Once again, we need to transform the data but just the Y this time, making our target values binary."
   ]
  },
  {
   "cell_type": "code",
   "execution_count": 208,
   "metadata": {},
   "outputs": [
    {
     "name": "stdout",
     "output_type": "stream",
     "text": [
      "Number of fire cases (1): 270\n",
      "Number of no-fire cases (0): 247\n",
      "Unique values in area column: [0.00000e+00 3.60000e-01 4.30000e-01 4.70000e-01 5.50000e-01 6.10000e-01\n",
      " 7.10000e-01 7.70000e-01 9.00000e-01 9.50000e-01 9.60000e-01 1.07000e+00\n",
      " 1.12000e+00 1.19000e+00 1.36000e+00 1.43000e+00 1.46000e+00 1.56000e+00\n",
      " 1.61000e+00 1.63000e+00 1.64000e+00 1.69000e+00 1.75000e+00 1.90000e+00\n",
      " 1.94000e+00 1.95000e+00 2.01000e+00 2.14000e+00 2.29000e+00 2.51000e+00\n",
      " 2.53000e+00 2.55000e+00 2.57000e+00 2.69000e+00 2.74000e+00 3.07000e+00\n",
      " 3.50000e+00 4.53000e+00 4.61000e+00 4.69000e+00 4.88000e+00 5.23000e+00\n",
      " 5.33000e+00 5.44000e+00 6.38000e+00 6.83000e+00 6.96000e+00 7.04000e+00\n",
      " 7.19000e+00 7.30000e+00 7.40000e+00 8.24000e+00 8.31000e+00 8.68000e+00\n",
      " 8.71000e+00 9.41000e+00 1.00100e+01 1.00200e+01 1.09300e+01 1.10600e+01\n",
      " 1.12400e+01 1.13200e+01 1.15300e+01 1.21000e+01 1.30500e+01 1.37000e+01\n",
      " 1.39900e+01 1.45700e+01 1.54500e+01 1.72000e+01 1.92300e+01 2.34100e+01\n",
      " 2.42300e+01 2.60000e+01 2.61300e+01 2.73500e+01 2.86600e+01 2.94800e+01\n",
      " 3.03200e+01 3.17200e+01 3.18600e+01 3.20700e+01 3.58800e+01 3.68500e+01\n",
      " 3.70200e+01 3.77100e+01 4.85500e+01 4.93700e+01 5.83000e+01 6.41000e+01\n",
      " 7.13000e+01 8.84900e+01 9.51800e+01 1.03390e+02 1.05660e+02 1.54880e+02\n",
      " 1.96480e+02 2.00940e+02 2.12880e+02 1.09084e+03 1.01300e+01 2.87000e+00\n",
      " 7.60000e-01 9.00000e-02 7.50000e-01 2.47000e+00 6.80000e-01 2.40000e-01\n",
      " 2.10000e-01 1.52000e+00 1.03400e+01 8.02000e+00 1.38000e+00 8.85000e+00\n",
      " 3.30000e+00 4.25000e+00 6.54000e+00 7.90000e-01 1.70000e-01 4.40000e+00\n",
      " 5.20000e-01 9.27000e+00 3.09000e+00 8.98000e+00 1.11900e+01 5.38000e+00\n",
      " 1.78500e+01 1.07300e+01 2.20300e+01 9.77000e+00 2.47700e+01 1.10000e+00\n",
      " 2.42400e+01 8.00000e+00 2.64000e+00 8.64500e+01 6.57000e+00 3.52000e+00\n",
      " 4.10000e-01 5.18000e+00 1.42900e+01 1.58000e+00 3.78000e+00 4.41000e+00\n",
      " 3.43600e+01 7.21000e+00 1.01000e+00 2.18000e+00 4.42000e+00 3.33000e+00\n",
      " 6.58000e+00 1.56400e+01 1.12200e+01 2.13000e+00 5.60400e+01 7.48000e+00\n",
      " 1.47000e+00 3.93000e+00 6.10000e+00 5.83000e+00 2.81900e+01 3.71000e+00\n",
      " 7.31000e+00 2.03000e+00 1.72000e+00 5.97000e+00 1.30600e+01 1.26000e+00\n",
      " 8.12000e+00 1.09000e+00 3.94000e+00 2.93000e+00 5.65000e+00 2.00300e+01\n",
      " 1.26400e+01 1.83000e+01 3.93500e+01 1.74630e+02 7.73000e+00 1.63300e+01\n",
      " 5.86000e+00 4.28700e+01 1.21800e+01 1.60000e+01 2.45900e+01 2.87400e+01\n",
      " 9.96000e+00 3.01800e+01 7.07600e+01 5.17800e+01 3.64000e+00 3.63000e+00\n",
      " 8.16000e+00 4.95000e+00 6.04000e+00 3.95000e+00 7.80000e+00 4.62000e+00\n",
      " 7.46280e+02 7.02000e+00 2.44000e+00 3.05000e+00 1.85760e+02 6.30000e+00\n",
      " 7.20000e-01 4.96000e+00 2.35000e+00 3.20000e+00 6.36000e+00 1.53400e+01\n",
      " 5.40000e-01 6.43000e+00 3.30000e-01 1.23000e+00 3.35000e+00 9.71000e+00\n",
      " 8.27500e+01 3.32000e+00 5.39000e+00 6.84000e+00 3.18000e+00 5.55000e+00\n",
      " 6.61000e+00 6.11300e+01 3.84800e+01 7.03200e+01 1.00800e+01 3.19000e+00\n",
      " 1.76000e+00 7.36000e+00 2.21000e+00 2.78530e+02 2.75000e+00 1.29000e+00\n",
      " 2.64300e+01 2.07000e+00 2.00000e+00 1.64000e+01 4.67000e+01 4.33200e+01\n",
      " 8.59000e+00 2.77000e+00 1.46800e+01 4.05400e+01 1.08200e+01 4.95900e+01\n",
      " 5.80000e+00 2.17000e+00 6.44000e+00 5.42900e+01 1.11600e+01]\n",
      "Number of zeros in area: 247\n",
      "Number of non-zeros in area: 270\n"
     ]
    }
   ],
   "source": [
    "#transform to either 0 or 1\n",
    "Y_bin = Y.copy()\n",
    "Y_bin['area'] = (Y_bin['area'] != 0).astype(int)\n",
    "\n",
    "\n",
    "\n",
    "\n",
    "# Split into training and test sets for classification\n",
    "X_train_bin, X_test_bin, y_train_bin, y_test_bin = train_test_split(\n",
    "    X, Y_bin, test_size=0.2, random_state=42\n",
    ")\n",
    "\n",
    "print(\"Number of fire cases (1):\", (Y_bin['area'] == 1).sum())\n",
    "print(\"Number of no-fire cases (0):\", (Y_bin['area'] == 0).sum())\n",
    "print(\"Unique values in area column:\", forest_fires['area'].unique())\n",
    "print(\"Number of zeros in area:\", (forest_fires['area'] == 0).sum())\n",
    "print(\"Number of non-zeros in area:\", (forest_fires['area'] != 0).sum())"
   ]
  },
  {
   "cell_type": "code",
   "execution_count": 210,
   "metadata": {},
   "outputs": [
    {
     "name": "stderr",
     "output_type": "stream",
     "text": [
      "<>:8: SyntaxWarning: 'int' object is not subscriptable; perhaps you missed a comma?\n",
      "<>:8: SyntaxWarning: 'int' object is not subscriptable; perhaps you missed a comma?\n",
      "C:\\Users\\mac5p\\AppData\\Local\\Temp\\ipykernel_34788\\2814567803.py:8: SyntaxWarning: 'int' object is not subscriptable; perhaps you missed a comma?\n",
      "  plt.hist(Y_bin['area'] == 1[feature],\n"
     ]
    },
    {
     "ename": "KeyError",
     "evalue": "'FFMC'",
     "output_type": "error",
     "traceback": [
      "\u001b[31m---------------------------------------------------------------------------\u001b[39m",
      "\u001b[31mKeyError\u001b[39m                                  Traceback (most recent call last)",
      "\u001b[36mCell\u001b[39m\u001b[36m \u001b[39m\u001b[32mIn[210]\u001b[39m\u001b[32m, line 6\u001b[39m\n\u001b[32m      3\u001b[39m plt.subplot(n_rows, n_cols, i+\u001b[32m1\u001b[39m)\n\u001b[32m      5\u001b[39m \u001b[38;5;66;03m# Plot histograms for each class\u001b[39;00m\n\u001b[32m----> \u001b[39m\u001b[32m6\u001b[39m plt.hist(\u001b[43mY_bin\u001b[49m\u001b[43m[\u001b[49m\u001b[33;43m'\u001b[39;49m\u001b[33;43marea\u001b[39;49m\u001b[33;43m'\u001b[39;49m\u001b[43m]\u001b[49m\u001b[43m[\u001b[49m\u001b[43mfeature\u001b[49m\u001b[43m]\u001b[49m, \n\u001b[32m      7\u001b[39m          alpha=\u001b[32m0.5\u001b[39m, label=\u001b[33m'\u001b[39m\u001b[33mNo Fire\u001b[39m\u001b[33m'\u001b[39m, bins=\u001b[32m20\u001b[39m)\n\u001b[32m      8\u001b[39m plt.hist(Y_bin[\u001b[33m'\u001b[39m\u001b[33marea\u001b[39m\u001b[33m'\u001b[39m] == \u001b[32m1\u001b[39m[feature], \n\u001b[32m      9\u001b[39m          alpha=\u001b[32m0.5\u001b[39m, label=\u001b[33m'\u001b[39m\u001b[33mFire\u001b[39m\u001b[33m'\u001b[39m, bins=\u001b[32m20\u001b[39m)\n\u001b[32m     11\u001b[39m plt.title(\u001b[33mf\u001b[39m\u001b[33m'\u001b[39m\u001b[38;5;132;01m{\u001b[39;00mfeature\u001b[38;5;132;01m}\u001b[39;00m\u001b[33m Distribution\u001b[39m\u001b[33m'\u001b[39m)\n",
      "\u001b[36mFile \u001b[39m\u001b[32mc:\\Python311\\Lib\\site-packages\\pandas\\core\\series.py:1121\u001b[39m, in \u001b[36mSeries.__getitem__\u001b[39m\u001b[34m(self, key)\u001b[39m\n\u001b[32m   1118\u001b[39m     \u001b[38;5;28;01mreturn\u001b[39;00m \u001b[38;5;28mself\u001b[39m._values[key]\n\u001b[32m   1120\u001b[39m \u001b[38;5;28;01melif\u001b[39;00m key_is_scalar:\n\u001b[32m-> \u001b[39m\u001b[32m1121\u001b[39m     \u001b[38;5;28;01mreturn\u001b[39;00m \u001b[38;5;28;43mself\u001b[39;49m\u001b[43m.\u001b[49m\u001b[43m_get_value\u001b[49m\u001b[43m(\u001b[49m\u001b[43mkey\u001b[49m\u001b[43m)\u001b[49m\n\u001b[32m   1123\u001b[39m \u001b[38;5;66;03m# Convert generator to list before going through hashable part\u001b[39;00m\n\u001b[32m   1124\u001b[39m \u001b[38;5;66;03m# (We will iterate through the generator there to check for slices)\u001b[39;00m\n\u001b[32m   1125\u001b[39m \u001b[38;5;28;01mif\u001b[39;00m is_iterator(key):\n",
      "\u001b[36mFile \u001b[39m\u001b[32mc:\\Python311\\Lib\\site-packages\\pandas\\core\\series.py:1237\u001b[39m, in \u001b[36mSeries._get_value\u001b[39m\u001b[34m(self, label, takeable)\u001b[39m\n\u001b[32m   1234\u001b[39m     \u001b[38;5;28;01mreturn\u001b[39;00m \u001b[38;5;28mself\u001b[39m._values[label]\n\u001b[32m   1236\u001b[39m \u001b[38;5;66;03m# Similar to Index.get_value, but we do not fall back to positional\u001b[39;00m\n\u001b[32m-> \u001b[39m\u001b[32m1237\u001b[39m loc = \u001b[38;5;28;43mself\u001b[39;49m\u001b[43m.\u001b[49m\u001b[43mindex\u001b[49m\u001b[43m.\u001b[49m\u001b[43mget_loc\u001b[49m\u001b[43m(\u001b[49m\u001b[43mlabel\u001b[49m\u001b[43m)\u001b[49m\n\u001b[32m   1239\u001b[39m \u001b[38;5;28;01mif\u001b[39;00m is_integer(loc):\n\u001b[32m   1240\u001b[39m     \u001b[38;5;28;01mreturn\u001b[39;00m \u001b[38;5;28mself\u001b[39m._values[loc]\n",
      "\u001b[36mFile \u001b[39m\u001b[32mc:\\Python311\\Lib\\site-packages\\pandas\\core\\indexes\\range.py:417\u001b[39m, in \u001b[36mRangeIndex.get_loc\u001b[39m\u001b[34m(self, key)\u001b[39m\n\u001b[32m    415\u001b[39m         \u001b[38;5;28;01mraise\u001b[39;00m \u001b[38;5;167;01mKeyError\u001b[39;00m(key) \u001b[38;5;28;01mfrom\u001b[39;00m\u001b[38;5;250m \u001b[39m\u001b[34;01merr\u001b[39;00m\n\u001b[32m    416\u001b[39m \u001b[38;5;28;01mif\u001b[39;00m \u001b[38;5;28misinstance\u001b[39m(key, Hashable):\n\u001b[32m--> \u001b[39m\u001b[32m417\u001b[39m     \u001b[38;5;28;01mraise\u001b[39;00m \u001b[38;5;167;01mKeyError\u001b[39;00m(key)\n\u001b[32m    418\u001b[39m \u001b[38;5;28mself\u001b[39m._check_indexing_error(key)\n\u001b[32m    419\u001b[39m \u001b[38;5;28;01mraise\u001b[39;00m \u001b[38;5;167;01mKeyError\u001b[39;00m(key)\n",
      "\u001b[31mKeyError\u001b[39m: 'FFMC'"
     ]
    },
    {
     "data": {
      "image/png": "[encoded data removed]",
      "text/plain": [
       "<Figure size 1500x1500 with 1 Axes>"
      ]
     },
     "metadata": {},
     "output_type": "display_data"
    }
   ],
   "source": [
    "plt.figure(figsize=(15, 5*n_rows))\n",
    "for i, feature in enumerate(features):\n",
    "    plt.subplot(n_rows, n_cols, i+1)\n",
    "    \n",
    "    # Plot histograms for each class\n",
    "    plt.hist(Y_bin['area'][feature], \n",
    "             alpha=0.5, label='No Fire', bins=20)\n",
    "    plt.hist(Y_bin['area'] == 1[feature], \n",
    "             alpha=0.5, label='Fire', bins=20)\n",
    "    \n",
    "    plt.title(f'{feature} Distribution')\n",
    "    plt.xlabel(feature)\n",
    "    plt.ylabel('Count')\n",
    "    plt.legend()\n",
    "plt.tight_layout()\n",
    "plt.show()"
   ]
  },
  {
   "cell_type": "markdown",
   "metadata": {},
   "source": [
    "# Ground vs. Weather\n",
    "Some of the figures seem to be related to ground condition, while others are related to weather conditions. Do these different sets of factors affect the regression differently?"
   ]
  },
  {
   "cell_type": "markdown",
   "metadata": {},
   "source": [
    "## Classification Models\n",
    "\n",
    "Here we use logistic regression, svm, and MLP"
   ]
  },
  {
   "cell_type": "markdown",
   "metadata": {},
   "source": [
    "# Ground vs. Weather\n",
    "Some of the figures seem to be related to ground condition, while others are related to weather conditions. Do these different sets of factors affect the regression differently?"
   ]
  },
  {
   "cell_type": "code",
   "execution_count": 202,
   "metadata": {},
   "outputs": [
    {
     "name": "stdout",
     "output_type": "stream",
     "text": [
      "Logistic Regression - Scores\n",
      "Training set score: 0.56\n",
      "Test set score: 0.55\n",
      "SVM - Scores\n",
      "Training set score: 0.55\n",
      "Test set score: 0.60\n",
      "MLP - Scores\n",
      "Training set score: 0.56\n",
      "Test set score: 0.55\n"
     ]
    },
    {
     "name": "stderr",
     "output_type": "stream",
     "text": [
      "c:\\Python311\\Lib\\site-packages\\sklearn\\utils\\validation.py:1408: DataConversionWarning: A column-vector y was passed when a 1d array was expected. Please change the shape of y to (n_samples, ), for example using ravel().\n",
      "  y = column_or_1d(y, warn=True)\n",
      "c:\\Python311\\Lib\\site-packages\\sklearn\\utils\\validation.py:1408: DataConversionWarning: A column-vector y was passed when a 1d array was expected. Please change the shape of y to (n_samples, ), for example using ravel().\n",
      "  y = column_or_1d(y, warn=True)\n",
      "c:\\Python311\\Lib\\site-packages\\sklearn\\neural_network\\_multilayer_perceptron.py:1124: DataConversionWarning: A column-vector y was passed when a 1d array was expected. Please change the shape of y to (n_samples, ), for example using ravel().\n",
      "  y = column_or_1d(y, warn=True)\n"
     ]
    }
   ],
   "source": [
    "#Logistic Regression\n",
    "log_reg = LogisticRegression(solver= 'liblinear',  C=100,max_iter= 10000)\n",
    "log_reg.fit(X_train_bin, y_train_bin)  # Just use the 'area' column\n",
    "y_pred = log_reg.predict(X_test_bin)\n",
    "\n",
    "# Accuracy\n",
    "print(\"Logistic Regression - Scores\")\n",
    "print(\"Training set score: {:.2f}\".format(log_reg.score(X_train_bin, y_train_bin)))\n",
    "print(\"Test set score: {:.2f}\".format(log_reg.score(X_test_bin, y_test_bin)))\n",
    "\n",
    "#SVM\n",
    "svm = SVC(kernel='rbf')\n",
    "svm.fit(X_train_bin, y_train_bin)\n",
    "y_pred_svm = svm.predict(X_test_bin)\n",
    "print(\"SVM - Scores\")\n",
    "print(\"Training set score: {:.2f}\".format(svm.score(X_train_bin, y_train_bin)))\n",
    "print(\"Test set score: {:.2f}\".format(svm.score(X_test_bin, y_test_bin)))\n",
    "\n",
    "mlp = MLPClassifier(hidden_layer_sizes=(100,), max_iter=1000, random_state=42)\n",
    "mlp.fit(X_train_bin, y_train_bin)\n",
    "y_pred_mlp = mlp.predict(X_test_bin)\n",
    "print(\"MLP - Scores\")\n",
    "print(\"Training set score: {:.2f}\".format(mlp.score(X_train_bin, y_train_bin)))\n",
    "print(\"Test set score: {:.2f}\".format(mlp.score(X_test_bin, y_test_bin)))"
   ]
  },
  {
   "cell_type": "markdown",
   "metadata": {},
   "source": [
    "What if it fits better as a polynomial?"
   ]
  },
  {
   "cell_type": "code",
   "execution_count": 184,
   "metadata": {},
   "outputs": [
    {
     "name": "stdout",
     "output_type": "stream",
     "text": [
      "Polynomial training set R^2: 0.94\n",
      "Polynomial test set R^2: -41115580.26\n"
     ]
    }
   ],
   "source": [
    "from sklearn.preprocessing import MinMaxScaler, PolynomialFeatures\n",
    "\n",
    "X_poly = PolynomialFeatures(degree=8).fit_transform(X)\n",
    "\n",
    "X_train, X_test, y_train, y_test = train_test_split(X_poly, Y_log)\n",
    "lr_poly = LinearRegression().fit(X_train, y_train)\n",
    "print(\"Polynomial training set R^2: {:.2f}\".format(lr_poly.score(X_train, y_train)))\n",
    "print(\"Polynomial test set R^2: {:.2f}\".format(lr_poly.score(X_test, y_test)))"
   ]
  },
  {
   "cell_type": "markdown",
   "metadata": {},
   "source": [
    "A liiiiiittle overfit"
   ]
  },
  {
   "cell_type": "markdown",
   "metadata": {},
   "source": [
    "# to do:\n",
    "SVR"
   ]
  },
  {
   "cell_type": "code",
   "execution_count": 185,
   "metadata": {},
   "outputs": [
    {
     "name": "stderr",
     "output_type": "stream",
     "text": [
      "c:\\Python311\\Lib\\site-packages\\sklearn\\utils\\validation.py:1408: DataConversionWarning: A column-vector y was passed when a 1d array was expected. Please change the shape of y to (n_samples, ), for example using ravel().\n",
      "  y = column_or_1d(y, warn=True)\n"
     ]
    }
   ],
   "source": [
    "from sklearn.svm import SVR\n",
    "\n",
    "svr = SVR(kernel='rbf', C=1.0, epsilon=0.1)\n",
    "svr.fit(X_train, y_train)\n",
    "y_pred = svr.predict(X_test)"
   ]
  },
  {
   "cell_type": "code",
   "execution_count": null,
   "metadata": {},
   "outputs": [],
   "source": []
  },
  {
   "cell_type": "code",
   "execution_count": null,
   "metadata": {},
   "outputs": [],
   "source": []
  },
  {
   "cell_type": "code",
   "execution_count": null,
   "metadata": {},
   "outputs": [],
   "source": []
  }
 ],
 "metadata": {
  "colab": {
   "authorship_tag": "ABX9TyPz6Wc0QkVgnZEOQH02FsDH",
   "include_colab_link": true,
   "provenance": [],
   "toc_visible": true
  },
  "kernelspec": {
   "display_name": "Python 3",
   "language": "python",
   "name": "python3"
  },
  "language_info": {
   "codemirror_mode": {
    "name": "ipython",
    "version": 3
   },
   "file_extension": ".py",
   "mimetype": "text/x-python",
   "name": "python",
   "nbconvert_exporter": "python",
   "pygments_lexer": "ipython3",
   "version": "3.11.5"
  }
 },
 "nbformat": 4,
 "nbformat_minor": 4
}
