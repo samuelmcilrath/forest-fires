{
 "cells": [
  {
   "cell_type": "markdown",
   "metadata": {
    "colab_type": "text",
    "id": "view-in-github"
   },
   "source": [
    "<a href=\"https://colab.research.google.com/github/samuelmcilrath/forest-fires/blob/main/forestfires.ipynb\" target=\"_parent\"><img src=\"https://colab.research.google.com/assets/colab-badge.svg\" alt=\"Open In Colab\"/></a>"
   ]
  },
  {
   "cell_type": "markdown",
   "metadata": {},
   "source": [
    "# Forest Fire Regression - Sam McIlrath and Olivia Creighton\n",
    "\n",
    "## Data\n",
    "Forest fires are highly detrimental to various communities and ecosystems. Their spread is determined by a variety of factors, including weather, topography, and ground cover. We wanted to determine if meteorological data and data on the ground cover could predict the spread of a forest fire. \n",
    "\n",
    "Features include:\n",
    "\n",
    "**X, Y**: Spatial coordinates within a Monteshino Park map\n",
    "\n",
    "**Month, day**: \"jan\" to \"dec\" and \"mon\" to \"sun\"\n",
    "\n",
    "**FFMC**: Fine Fuel Moisture Code; the amount of moisture in the litter/fuel on the ground; relative measure of ease of ignition and flammability\n",
    "\n",
    "**DMC**: Duff Moisture Code; the amount of moisture in the top layer of soil\n",
    "\n",
    "**DC**: Drought Code; the amount of moisture of deeper soil\n",
    "\n",
    "**ISI**: Initial Spread Index; expected rate of fire spread, based on windspeed and FFMC\n",
    "\n",
    "**Temp**: Temperature in Celsius degrees\n",
    "\n",
    "**RH**: Relative humidity in %\n",
    "\n",
    "**Wind**: Wind speed in km/h\n",
    "\n",
    "**Rain**: Outside rain in mm/m2\n",
    "\n",
    "**Area**: Burned area in hectares\n",
    "\n",
    "FFMC, DMC, and DC according to the FWI (https://cwfis.cfs.nrcan.gc.ca/background/summary/fwi)"
   ]
  },
  {
   "cell_type": "code",
   "execution_count": 97,
   "metadata": {},
   "outputs": [
    {
     "name": "stdout",
     "output_type": "stream",
     "text": [
      "First 5 records: \n",
      "    X  Y month  day  FFMC   DMC     DC  ISI  temp  RH  wind  rain  area\n",
      "0  7  5   mar  fri  86.2  26.2   94.3  5.1   8.2  51   6.7   0.0   0.0\n",
      "1  7  4   oct  tue  90.6  35.4  669.1  6.7  18.0  33   0.9   0.0   0.0\n",
      "2  7  4   oct  sat  90.6  43.7  686.9  6.7  14.6  33   1.3   0.0   0.0\n",
      "3  8  6   mar  fri  91.7  33.3   77.5  9.0   8.3  97   4.0   0.2   0.0\n",
      "4  8  6   mar  sun  89.3  51.3  102.2  9.6  11.4  99   1.8   0.0   0.0\n"
     ]
    }
   ],
   "source": [
    "import pandas as pd\n",
    "import numpy as np\n",
    "import matplotlib.pyplot as plt\n",
    "#import seaborn as sns\n",
    "\n",
    "import sklearn\n",
    "\n",
    "from sklearn.linear_model import LinearRegression, Lasso, Ridge, LogisticRegression\n",
    "from sklearn.ensemble import RandomForestRegressor\n",
    "from sklearn.neural_network import MLPRegressor\n",
    "from sklearn.svm import SVR, SVC\n",
    "from sklearn.neighbors import KNeighborsRegressor\n",
    "from sklearn.preprocessing import StandardScaler\n",
    "from sklearn.decomposition import PCA\n",
    "from sklearn.mixture import GaussianMixture\n",
    "from sklearn.neural_network import MLPClassifier\n",
    "from sklearn.model_selection import train_test_split\n",
    "from sklearn.metrics import mean_squared_error, mean_absolute_error, r2_score, accuracy_score, precision_score, recall_score, f1_score\n",
    "\n",
    "\n",
    "import matplotlib.pyplot as plt\n",
    "%matplotlib inline\n",
    "\n",
    "# Set the path to the file you'd like to load\n",
    "file_path = \"C:\\MAIN\\School\\ML\\Sem Proj\\forest-fires\\forestfires.ipynb\"\n",
    "\n",
    "# Load the latest version\n",
    "forest_fires = pd.read_csv(\"forestfires_dataset.csv\")\n",
    "\n",
    "print(\"First 5 records: \\n\", forest_fires.head())\n",
    "  "
   ]
  },
  {
   "cell_type": "markdown",
   "metadata": {},
   "source": [
    "### Data Transformation"
   ]
  },
  {
   "cell_type": "code",
   "execution_count": 98,
   "metadata": {},
   "outputs": [
    {
     "name": "stdout",
     "output_type": "stream",
     "text": [
      "(270, 11)\n"
     ]
    }
   ],
   "source": [
    "###Transform Data - get splits\n",
    "forest_fires = forest_fires.drop(columns=['month', 'day']) #drop month and day columns\n",
    "\n",
    "X = forest_fires.drop(columns=['area', 'X', 'Y'])\n",
    "Y = forest_fires[['area']]\n",
    "\n",
    "#get rid of half of 90% of 0 area rows\n",
    "ff_zeros = forest_fires[forest_fires['area'] == 0]\n",
    "ff_nonzeros = forest_fires[forest_fires['area'] != 0]\n",
    "print(ff_nonzeros.shape)\n",
    "ff_zeros_reduced = ff_zeros.sample(frac=0.05, random_state=42)\n",
    "forest_fires = pd.concat([ff_nonzeros, ff_zeros_reduced]).reset_index(drop=True)\n",
    "\n",
    "Y_log = np.log1p(Y) #skewed to 0, apply log \n",
    "\n",
    "# Standardize numerical features - this standardizes mean to 0\n",
    "scaler = StandardScaler()\n",
    "X_scaled = scaler.fit_transform(X)\n",
    "\n",
    "# Split into training and test sets\n",
    "X_train, X_test, y_train_log, y_test_log = train_test_split(\n",
    "    X_scaled, Y_log, test_size=0.2, random_state=42\n",
    ")\n",
    "\n",
    "# Split into training and test sets\n",
    "X_train_base, X_test_base, y_train, y_test = train_test_split(\n",
    "    X_scaled, Y, test_size=0.2, random_state=42\n",
    ")\n",
    "##note \n",
    "#if going with classifier, try to make amounts of nonburn to burn "
   ]
  },
  {
   "cell_type": "code",
   "execution_count": 101,
   "metadata": {},
   "outputs": [
    {
     "name": "stdout",
     "output_type": "stream",
     "text": [
      "12\n",
      "Number of zeros in area column: 12\n",
      "Total number of rows: 282\n"
     ]
    }
   ],
   "source": [
    "### Data Transformation\n",
    "count = 0\n",
    "for i in forest_fires['area']:\n",
    "    if i == 0:\n",
    "        count += 1\n",
    "print(count)    \n",
    "\n",
    "# Count zeros in the area column\n",
    "zero_count = (forest_fires['area'] == 0).sum()\n",
    "print(f\"Number of zeros in area column: {zero_count}\")\n",
    "\n",
    "# Let's also see the total number of rows for comparison\n",
    "total_rows = len(forest_fires)\n",
    "print(f\"Total number of rows: {total_rows}\")\n"
   ]
  },
  {
   "cell_type": "code",
   "execution_count": 102,
   "metadata": {},
   "outputs": [
    {
     "data": {
      "image/png": "[encoded data removed]",
      "text/plain": [
       "<Figure size 1400x400 with 2 Axes>"
      ]
     },
     "metadata": {},
     "output_type": "display_data"
    }
   ],
   "source": [
    "# Create two subplots side by side\n",
    "fig, (ax1, ax2) = plt.subplots(1, 2, figsize=(14, 4))\n",
    "\n",
    "# Original distribution\n",
    "ax1.hist(forest_fires['area'], bins=30)\n",
    "ax1.set_title('Original Area Distribution')\n",
    "ax1.set_xlabel('Area (hectares)')\n",
    "ax1.set_ylabel('Frequency')\n",
    "\n",
    "# Log-transformed distribution\n",
    "ax2.hist(np.log1p(forest_fires['area']), bins=30, color='orange')\n",
    "ax2.set_title('Log-transformed Area Distribution')\n",
    "ax2.set_xlabel('log(Area + 1)')\n",
    "ax2.set_ylabel('Frequency')\n",
    "\n",
    "plt.show()"
   ]
  },
  {
   "cell_type": "markdown",
   "metadata": {},
   "source": [
    "## Regression Models"
   ]
  },
  {
   "cell_type": "code",
   "execution_count": 103,
   "metadata": {},
   "outputs": [
    {
     "name": "stdout",
     "output_type": "stream",
     "text": [
      "\n",
      "Linear Regression Performance -----------\n",
      "-> log transformed\n",
      "Training set score: 0.02\n",
      "Test set score: 0.00\n",
      "RMSE: 109.960\n",
      "MAE: 19.807\n",
      "R²: -0.026\n",
      "-> no transformation\n",
      "Training set score: -0.05\n",
      "Test set score: -0.03\n",
      "RMSE: 110.135\n",
      "MAE: 19.669\n",
      "R²: -0.029\n",
      "\n",
      "Ridge Regression Performance -----------\n",
      "-> log transformed\n",
      "Training set score: 0.02\n",
      "Test set score: 0.00\n",
      "RMSE: 109.960\n",
      "MAE: 19.807\n",
      "R²: -0.026\n",
      "-> no transformation\n",
      "Training set score: -0.05\n",
      "Test set score: -0.03\n",
      "RMSE: 110.135\n",
      "MAE: 19.669\n",
      "R²: -0.029\n",
      "\n",
      "Lasso Regression Performance -----------\n",
      "-> log transformed\n",
      "Training set score: 0.00\n",
      "Test set score: -0.00\n",
      "RMSE: 109.995\n",
      "MAE: 19.819\n",
      "R²: -0.026\n",
      "-> no transformation\n",
      "Training set score: -0.05\n",
      "Test set score: -0.03\n",
      "RMSE: 110.145\n",
      "MAE: 19.679\n",
      "R²: -0.029\n",
      "\n",
      "Neural Network (MLPRegressor) Performance -----------\n",
      "-> log transformed\n",
      "Training set score: 0.01\n",
      "Test set score: 0.01\n",
      "RMSE: 109.983\n",
      "MAE: 19.773\n",
      "R²: -0.026\n",
      "-> no transformation\n",
      "Training set score: -0.05\n",
      "Test set score: -0.03\n",
      "RMSE: 110.142\n",
      "MAE: 19.664\n",
      "R²: -0.029\n"
     ]
    },
    {
     "name": "stderr",
     "output_type": "stream",
     "text": [
      "c:\\Python311\\Lib\\site-packages\\sklearn\\neural_network\\_multilayer_perceptron.py:1650: DataConversionWarning: A column-vector y was passed when a 1d array was expected. Please change the shape of y to (n_samples, ), for example using ravel().\n",
      "  y = column_or_1d(y, warn=True)\n"
     ]
    }
   ],
   "source": [
    "# A helper function to evaluate models\n",
    "def evaluate_model(model, X_train, y_train, X_test, y_test, is_log_transformed=True):\n",
    "    # Get predictions\n",
    "    y_pred = model.predict(X_test)\n",
    "    \n",
    "    if is_log_transformed:\n",
    "        # For log-transformed data, convert back to original scale\n",
    "        y_pred = np.expm1(y_pred)\n",
    "        y_true = np.expm1(y_test)\n",
    "    else:\n",
    "        # For non-transformed data, use as is\n",
    "        y_true = y_test\n",
    "    \n",
    "    print(\"Training set score: {:.2f}\".format(model.score(X_train, y_train)))\n",
    "    print(\"Test set score: {:.2f}\".format(model.score(X_test, y_test)))\n",
    "    rmse = np.sqrt(mean_squared_error(y_true, y_pred))\n",
    "    mae = mean_absolute_error(y_true, y_pred)\n",
    "    r2 = r2_score(y_true, y_pred)\n",
    "    \n",
    "    print(f'RMSE: {rmse:.3f}')\n",
    "    print(f'MAE: {mae:.3f}')\n",
    "    print(f'R²: {r2:.3f}')\n",
    "    return y_pred\n",
    "\n",
    "#Linear Regression\n",
    "lin_reg = LinearRegression()\n",
    "lin_reg.fit(X_train, y_train_log)\n",
    "print(\"\\nLinear Regression Performance -----------\")\n",
    "print(\"-> log transformed\")\n",
    "lin_y_pred = evaluate_model(lin_reg, X_train, y_train_log, X_test, y_test_log, is_log_transformed=True)\n",
    "print(\"-> no transformation\")\n",
    "lin_y_pred = evaluate_model(lin_reg, X_train, y_train, X_test, y_test, is_log_transformed=False)\n",
    "\n",
    "#Ridge Regression (regularized linear model)\n",
    "ridge = Ridge(alpha=0.1)\n",
    "ridge.fit(X_train, y_train_log)\n",
    "print(\"\\nRidge Regression Performance -----------\")\n",
    "print(\"-> log transformed\")\n",
    "ridge_y_pred = evaluate_model(ridge, X_train, y_train_log, X_test, y_test_log, is_log_transformed=True)\n",
    "print(\"-> no transformation\")\n",
    "ridge_y_pred = evaluate_model(ridge, X_train, y_train, X_test, y_test, is_log_transformed=False)\n",
    "\n",
    "#Lasso Regression \n",
    "lasso = Lasso(alpha=0.1)\n",
    "lasso.fit(X_train, y_train_log)\n",
    "print(\"\\nLasso Regression Performance -----------\")\n",
    "print(\"-> log transformed\")\n",
    "lasso_y_pred = evaluate_model(lasso, X_train, y_train_log, X_test, y_test_log, is_log_transformed=True)\n",
    "print(\"-> no transformation\")\n",
    "lasso_y_pred = evaluate_model(lasso, X_train, y_train, X_test, y_test, is_log_transformed=False)\n",
    "\n",
    "# Neural Network with MLPRegressor\n",
    "mlp_reg = MLPRegressor(solver=\"adam\", hidden_layer_sizes=(100), activation='logistic')\n",
    "mlp_reg.fit(X_train, y_train_log)\n",
    "print(\"\\nNeural Network (MLPRegressor) Performance -----------\")\n",
    "print(\"-> log transformed\")\n",
    "mlp_y_pred = evaluate_model(mlp_reg, X_train, y_train_log, X_test, y_test_log, is_log_transformed=True)\n",
    "print(\"-> no transformation\")\n",
    "mlp_y_pred = evaluate_model(mlp_reg, X_train, y_train, X_test, y_test, is_log_transformed=False)"
   ]
  },
  {
   "cell_type": "markdown",
   "metadata": {},
   "source": [
    "# Ground vs. Weather\n",
    "Some of the figures seem to be related to ground condition, while others are related to weather conditions. Do these different sets of factors affect the regression differently?"
   ]
  },
  {
   "cell_type": "code",
   "execution_count": 104,
   "metadata": {},
   "outputs": [
    {
     "name": "stdout",
     "output_type": "stream",
     "text": [
      "Index(['FFMC', 'DMC', 'DC', 'ISI', 'temp', 'RH', 'wind', 'rain'], dtype='object')\n",
      "Index(['FFMC', 'DMC', 'DC', 'ISI'], dtype='object')\n",
      "Index(['temp', 'RH', 'wind', 'rain'], dtype='object')\n"
     ]
    },
    {
     "ename": "ValueError",
     "evalue": "Found input variables with inconsistent numbers of samples: [282, 517]",
     "output_type": "error",
     "traceback": [
      "\u001b[31m---------------------------------------------------------------------------\u001b[39m",
      "\u001b[31mValueError\u001b[39m                                Traceback (most recent call last)",
      "\u001b[36mCell\u001b[39m\u001b[36m \u001b[39m\u001b[32mIn[104]\u001b[39m\u001b[32m, line 11\u001b[39m\n\u001b[32m      8\u001b[39m X_gscaled = scaler.fit_transform(X_ground)\n\u001b[32m      9\u001b[39m X_wscaled = scaler.fit_transform(X_weather)\n\u001b[32m---> \u001b[39m\u001b[32m11\u001b[39m X_train, X_test, y_train_log, y_test_log = \u001b[43mtrain_test_split\u001b[49m\u001b[43m(\u001b[49m\n\u001b[32m     12\u001b[39m \u001b[43m    \u001b[49m\u001b[43mX_gscaled\u001b[49m\u001b[43m,\u001b[49m\u001b[43m \u001b[49m\u001b[43mY_log\u001b[49m\n\u001b[32m     13\u001b[39m \u001b[43m)\u001b[49m\n\u001b[32m     15\u001b[39m groundlr = LinearRegression().fit(X_train, y_train_log)\n\u001b[32m     17\u001b[39m \u001b[38;5;28mprint\u001b[39m(\u001b[33m\"\u001b[39m\u001b[33mGround training set R^2: \u001b[39m\u001b[38;5;132;01m{:.2f}\u001b[39;00m\u001b[33m\"\u001b[39m.format(groundlr.score(X_train, y_train_log)))\n",
      "\u001b[36mFile \u001b[39m\u001b[32mc:\\Python311\\Lib\\site-packages\\sklearn\\utils\\_param_validation.py:216\u001b[39m, in \u001b[36mvalidate_params.<locals>.decorator.<locals>.wrapper\u001b[39m\u001b[34m(*args, **kwargs)\u001b[39m\n\u001b[32m    210\u001b[39m \u001b[38;5;28;01mtry\u001b[39;00m:\n\u001b[32m    211\u001b[39m     \u001b[38;5;28;01mwith\u001b[39;00m config_context(\n\u001b[32m    212\u001b[39m         skip_parameter_validation=(\n\u001b[32m    213\u001b[39m             prefer_skip_nested_validation \u001b[38;5;129;01mor\u001b[39;00m global_skip_validation\n\u001b[32m    214\u001b[39m         )\n\u001b[32m    215\u001b[39m     ):\n\u001b[32m--> \u001b[39m\u001b[32m216\u001b[39m         \u001b[38;5;28;01mreturn\u001b[39;00m \u001b[43mfunc\u001b[49m\u001b[43m(\u001b[49m\u001b[43m*\u001b[49m\u001b[43margs\u001b[49m\u001b[43m,\u001b[49m\u001b[43m \u001b[49m\u001b[43m*\u001b[49m\u001b[43m*\u001b[49m\u001b[43mkwargs\u001b[49m\u001b[43m)\u001b[49m\n\u001b[32m    217\u001b[39m \u001b[38;5;28;01mexcept\u001b[39;00m InvalidParameterError \u001b[38;5;28;01mas\u001b[39;00m e:\n\u001b[32m    218\u001b[39m     \u001b[38;5;66;03m# When the function is just a wrapper around an estimator, we allow\u001b[39;00m\n\u001b[32m    219\u001b[39m     \u001b[38;5;66;03m# the function to delegate validation to the estimator, but we replace\u001b[39;00m\n\u001b[32m    220\u001b[39m     \u001b[38;5;66;03m# the name of the estimator by the name of the function in the error\u001b[39;00m\n\u001b[32m    221\u001b[39m     \u001b[38;5;66;03m# message to avoid confusion.\u001b[39;00m\n\u001b[32m    222\u001b[39m     msg = re.sub(\n\u001b[32m    223\u001b[39m         \u001b[33mr\u001b[39m\u001b[33m\"\u001b[39m\u001b[33mparameter of \u001b[39m\u001b[33m\\\u001b[39m\u001b[33mw+ must be\u001b[39m\u001b[33m\"\u001b[39m,\n\u001b[32m    224\u001b[39m         \u001b[33mf\u001b[39m\u001b[33m\"\u001b[39m\u001b[33mparameter of \u001b[39m\u001b[38;5;132;01m{\u001b[39;00mfunc.\u001b[34m__qualname__\u001b[39m\u001b[38;5;132;01m}\u001b[39;00m\u001b[33m must be\u001b[39m\u001b[33m\"\u001b[39m,\n\u001b[32m    225\u001b[39m         \u001b[38;5;28mstr\u001b[39m(e),\n\u001b[32m    226\u001b[39m     )\n",
      "\u001b[36mFile \u001b[39m\u001b[32mc:\\Python311\\Lib\\site-packages\\sklearn\\model_selection\\_split.py:2848\u001b[39m, in \u001b[36mtrain_test_split\u001b[39m\u001b[34m(test_size, train_size, random_state, shuffle, stratify, *arrays)\u001b[39m\n\u001b[32m   2845\u001b[39m \u001b[38;5;28;01mif\u001b[39;00m n_arrays == \u001b[32m0\u001b[39m:\n\u001b[32m   2846\u001b[39m     \u001b[38;5;28;01mraise\u001b[39;00m \u001b[38;5;167;01mValueError\u001b[39;00m(\u001b[33m\"\u001b[39m\u001b[33mAt least one array required as input\u001b[39m\u001b[33m\"\u001b[39m)\n\u001b[32m-> \u001b[39m\u001b[32m2848\u001b[39m arrays = \u001b[43mindexable\u001b[49m\u001b[43m(\u001b[49m\u001b[43m*\u001b[49m\u001b[43marrays\u001b[49m\u001b[43m)\u001b[49m\n\u001b[32m   2850\u001b[39m n_samples = _num_samples(arrays[\u001b[32m0\u001b[39m])\n\u001b[32m   2851\u001b[39m n_train, n_test = _validate_shuffle_split(\n\u001b[32m   2852\u001b[39m     n_samples, test_size, train_size, default_test_size=\u001b[32m0.25\u001b[39m\n\u001b[32m   2853\u001b[39m )\n",
      "\u001b[36mFile \u001b[39m\u001b[32mc:\\Python311\\Lib\\site-packages\\sklearn\\utils\\validation.py:532\u001b[39m, in \u001b[36mindexable\u001b[39m\u001b[34m(*iterables)\u001b[39m\n\u001b[32m    502\u001b[39m \u001b[38;5;250m\u001b[39m\u001b[33;03m\"\"\"Make arrays indexable for cross-validation.\u001b[39;00m\n\u001b[32m    503\u001b[39m \n\u001b[32m    504\u001b[39m \u001b[33;03mChecks consistent length, passes through None, and ensures that everything\u001b[39;00m\n\u001b[32m   (...)\u001b[39m\u001b[32m    528\u001b[39m \u001b[33;03m[[1, 2, 3], array([2, 3, 4]), None, <...Sparse...dtype 'int64'...shape (3, 1)>]\u001b[39;00m\n\u001b[32m    529\u001b[39m \u001b[33;03m\"\"\"\u001b[39;00m\n\u001b[32m    531\u001b[39m result = [_make_indexable(X) \u001b[38;5;28;01mfor\u001b[39;00m X \u001b[38;5;129;01min\u001b[39;00m iterables]\n\u001b[32m--> \u001b[39m\u001b[32m532\u001b[39m \u001b[43mcheck_consistent_length\u001b[49m\u001b[43m(\u001b[49m\u001b[43m*\u001b[49m\u001b[43mresult\u001b[49m\u001b[43m)\u001b[49m\n\u001b[32m    533\u001b[39m \u001b[38;5;28;01mreturn\u001b[39;00m result\n",
      "\u001b[36mFile \u001b[39m\u001b[32mc:\\Python311\\Lib\\site-packages\\sklearn\\utils\\validation.py:475\u001b[39m, in \u001b[36mcheck_consistent_length\u001b[39m\u001b[34m(*arrays)\u001b[39m\n\u001b[32m    473\u001b[39m uniques = np.unique(lengths)\n\u001b[32m    474\u001b[39m \u001b[38;5;28;01mif\u001b[39;00m \u001b[38;5;28mlen\u001b[39m(uniques) > \u001b[32m1\u001b[39m:\n\u001b[32m--> \u001b[39m\u001b[32m475\u001b[39m     \u001b[38;5;28;01mraise\u001b[39;00m \u001b[38;5;167;01mValueError\u001b[39;00m(\n\u001b[32m    476\u001b[39m         \u001b[33m\"\u001b[39m\u001b[33mFound input variables with inconsistent numbers of samples: \u001b[39m\u001b[38;5;132;01m%r\u001b[39;00m\u001b[33m\"\u001b[39m\n\u001b[32m    477\u001b[39m         % [\u001b[38;5;28mint\u001b[39m(l) \u001b[38;5;28;01mfor\u001b[39;00m l \u001b[38;5;129;01min\u001b[39;00m lengths]\n\u001b[32m    478\u001b[39m     )\n",
      "\u001b[31mValueError\u001b[39m: Found input variables with inconsistent numbers of samples: [282, 517]"
     ]
    }
   ],
   "source": [
    "X_ground = forest_fires.drop(columns=['X','Y','wind','rain','temp','RH','area'])\n",
    "X_weather = forest_fires.drop(columns=['X','Y','FFMC','DMC','DC','ISI','area'])\n",
    "\n",
    "print(X.columns)\n",
    "print(X_ground.columns)\n",
    "print(X_weather.columns)\n",
    "\n",
    "X_gscaled = scaler.fit_transform(X_ground)\n",
    "X_wscaled = scaler.fit_transform(X_weather)\n",
    "\n",
    "X_train, X_test, y_train_log, y_test_log = train_test_split(\n",
    "    X_gscaled, Y_log\n",
    ")\n",
    "\n",
    "groundlr = LinearRegression().fit(X_train, y_train_log)\n",
    "\n",
    "print(\"Ground training set R^2: {:.2f}\".format(groundlr.score(X_train, y_train_log)))\n",
    "print(\"Ground test set R^2: {:.2f}\".format(groundlr.score(X_test, y_test_log)))\n",
    "\n",
    "X_train, X_test, y_train_log, y_test_log = train_test_split(\n",
    "    X_wscaled, Y_log\n",
    ")\n",
    "\n",
    "weatherlr = LinearRegression().fit(X_train, y_train_log)\n",
    "\n",
    "print(\"Weather training set R^2: {:.2f}\".format(weatherlr.score(X_train, y_train_log)))\n",
    "print(\"Weather test set R^2: {:.2f}\".format(weatherlr.score(X_test, y_test_log)))\n",
    "\n",
    "#Somehow make a function that displays each combo of factors against each other"
   ]
  },
  {
   "cell_type": "markdown",
   "metadata": {},
   "source": [
    "## Analyzing Correlations\n",
    "After looking at these scores and their lackluster results we decided to check the correltations between the attributes and the target area."
   ]
  },
  {
   "cell_type": "code",
   "execution_count": 105,
   "metadata": {},
   "outputs": [
    {
     "data": {
      "image/png": "[encoded data removed]",
      "text/plain": [
       "<Figure size 1000x600 with 1 Axes>"
      ]
     },
     "metadata": {},
     "output_type": "display_data"
    }
   ],
   "source": [
    "# Calculate correlations\n",
    "correlation_matrix = forest_fires.corr()\n",
    "\n",
    "plt.figure(figsize=(10, 6))\n",
    "# Create bar plot of correlations with area\n",
    "area_correlations = correlation_matrix['area'].drop('area')\n",
    "area_correlations.sort_values().plot(kind='bar', color='skyblue')\n",
    "plt.title('Correlation of Features with Fire Area')\n",
    "plt.xlabel('Features')\n",
    "plt.ylabel('Correlation Coefficient')\n",
    "plt.xticks(rotation=45)\n",
    "plt.tight_layout()\n",
    "plt.show()"
   ]
  },
  {
   "cell_type": "markdown",
   "metadata": {},
   "source": [
    "# Switching to Binary Classification\n",
    "\n",
    "It is clear that regression simply won't work with the given correlations, or at least with the models that we have learned about. Given that a large portion of our target values are 0, it makes a lot of sense to switch this from a regression problem to binary classification where our two classes are area values of 0 and nonzero. This essentially makes it a question of, given certain weather conditions has or hasn't a fire occured?\n",
    "\n",
    "## Data Transformation\n",
    "Once again, we need to transform the data but just the Y this time, making our target values binary."
   ]
  },
  {
   "cell_type": "code",
   "execution_count": 110,
   "metadata": {},
   "outputs": [],
   "source": [
    "#transform to either 0 or 1\n",
    "Y_bin = Y.copy()\n",
    "Y_bin['area'] = (Y_bin['area'] != 0).astype(int)\n",
    "\n",
    "\n",
    "# First, standardize the features for classification\n",
    "scaler = StandardScaler()\n",
    "X_scaled = scaler.fit_transform(X)\n",
    "\n",
    "# Split into training and test sets for classification\n",
    "X_train_bin, X_test_bin, y_train_bin, y_test_bin = train_test_split(\n",
    "    X_scaled, Y_bin, test_size=0.2, random_state=42\n",
    ")"
   ]
  },
  {
   "cell_type": "markdown",
   "metadata": {},
   "source": [
    "## Classification Models\n",
    "\n",
    "Here we use logistic regression, svm, and MLP"
   ]
  },
  {
   "cell_type": "code",
   "execution_count": null,
   "metadata": {},
   "outputs": [
    {
     "name": "stdout",
     "output_type": "stream",
     "text": [
      "\n",
      "Logistic Regression Accuracy: 0.5576923076923077\n",
      "SVM Accuracy: 0.5576923076923077\n",
      "Neural Net Accuracy: 0.5769230769230769\n"
     ]
    }
   ],
   "source": [
    "#Logistic Regression\n",
    "log_reg = LogisticRegression(max_iter= 10000)\n",
    "log_reg.fit(X_train_bin, y_train_bin['area'])  # Just use the 'area' column\n",
    "y_pred = log_reg.predict(X_test_bin)\n",
    "\n",
    "# Accuracy\n",
    "print(\"Accuracy:\", accuracy_score(y_test_bin['area'], y_pred))\n",
    "print(\"Training set score: {:.2f}\".format(log_reg.score(X_train_bin, y_train_bin)))\n",
    "print(\"Test set score: {:.2f}\".format(log_reg.score(X_test_bin, y_test_bin)))\n",
    "\n",
    "#SVM\n",
    "svm = SVC(kernel='rbf')\n",
    "svm.fit(X_train, y_train_bin['area'])\n",
    "y_pred_svm = svm.predict(X_test)\n",
    "\n",
    "print(\"SVM Accuracy:\", accuracy_score(y_test_bin['area'], y_pred_svm))\n",
    "\n",
    "mlp = MLPClassifier(hidden_layer_sizes=(100,), max_iter=1000, random_state=42)\n",
    "mlp.fit(X_train, y_train_bin['area'])\n",
    "y_pred_mlp = mlp.predict(X_test)\n",
    "\n",
    "print(\"Neural Net Accuracy:\", accuracy_score(y_test_bin['area'], y_pred_mlp))"
   ]
  },
  {
   "cell_type": "markdown",
   "metadata": {},
   "source": [
    "What if it fits better as a polynomial?"
   ]
  },
  {
   "cell_type": "code",
   "execution_count": 90,
   "metadata": {},
   "outputs": [
    {
     "name": "stdout",
     "output_type": "stream",
     "text": [
      "Polynomial training set R^2: 0.93\n",
      "Polynomial test set R^2: -27717.36\n"
     ]
    }
   ],
   "source": [
    "from sklearn.preprocessing import MinMaxScaler, PolynomialFeatures\n",
    "\n",
    "X_poly = PolynomialFeatures(degree=8).fit_transform(X)\n",
    "\n",
    "X_train, X_test, y_train, y_test = train_test_split(X_poly, Y_log)\n",
    "lr_poly = LinearRegression().fit(X_train, y_train)\n",
    "print(\"Polynomial training set R^2: {:.2f}\".format(lr_poly.score(X_train, y_train)))\n",
    "print(\"Polynomial test set R^2: {:.2f}\".format(lr_poly.score(X_test, y_test)))"
   ]
  },
  {
   "cell_type": "markdown",
   "metadata": {},
   "source": [
    "A liiiiiittle overfit"
   ]
  },
  {
   "cell_type": "markdown",
   "metadata": {},
   "source": [
    "# to do:\n",
    "SVR"
   ]
  },
  {
   "cell_type": "code",
   "execution_count": 98,
   "metadata": {},
   "outputs": [],
   "source": [
    "from sklearn.svm import SVR\n",
    "\n",
    "svr = SVR(kernel='rbf', C=1.0, epsilon=0.1)\n",
    "svr.fit(X_train, y_train)\n",
    "y_pred = svr.predict(X_test)"
   ]
  }
 ],
 "metadata": {
  "colab": {
   "authorship_tag": "ABX9TyPz6Wc0QkVgnZEOQH02FsDH",
   "include_colab_link": true,
   "provenance": [],
   "toc_visible": true
  },
  "kernelspec": {
   "display_name": "Python 3",
   "language": "python",
   "name": "python3"
  },
  "language_info": {
   "codemirror_mode": {
    "name": "ipython",
    "version": 3
   },
   "file_extension": ".py",
   "mimetype": "text/x-python",
   "name": "python",
   "nbconvert_exporter": "python",
   "pygments_lexer": "ipython3",
   "version": "3.11.5"
  }
 },
 "nbformat": 4,
 "nbformat_minor": 4
}
