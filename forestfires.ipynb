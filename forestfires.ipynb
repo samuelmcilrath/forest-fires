{
 "cells": [
  {
   "cell_type": "markdown",
   "metadata": {
    "colab_type": "text",
    "id": "view-in-github"
   },
   "source": [
    "<a href=\"https://colab.research.google.com/github/samuelmcilrath/forest-fires/blob/main/forestfires.ipynb\" target=\"_parent\"><img src=\"https://colab.research.google.com/assets/colab-badge.svg\" alt=\"Open In Colab\"/></a>"
   ]
  },
  {
   "cell_type": "markdown",
   "metadata": {},
   "source": [
    "# Forest Fire Regression - Sam McIlrath and Olivia Creighton\n",
    "\n",
    "Forest fires are highly detrimental to various communities and ecosystems. Their spread is determined by a variety of factors, including weather, topography, and ground cover. We wanted to determine if meteorological data and data on the ground cover could predict the spread of a forest fire. \n",
    "\n",
    "Features include:\n",
    "\n",
    "**X, Y**: Spatial coordinates within a Monteshino Park map\n",
    "\n",
    "**Month, day**: \"jan\" to \"dec\" and \"mon\" to \"sun\"\n",
    "\n",
    "**FFMC**: Fine Fuel Moisture Code; the amount of moisture in the litter/fuel on the ground; relative measure of ease of ignition and flammability\n",
    "\n",
    "**DMC**: Duff Moisture Code; the amount of moisture in the top layer of soil\n",
    "\n",
    "**DC**: Drought Code; the amount of moisture of deeper soil\n",
    "\n",
    "**ISI**: Initial Spread Index; expected rate of fire spread, based on windspeed and FFMC\n",
    "\n",
    "**Temp**: Temperature in Celsius degrees\n",
    "\n",
    "**RH**: Relative humidity in %\n",
    "\n",
    "**Wind**: Wind speed in km/h\n",
    "\n",
    "**Rain**: Outside rain in mm/m2\n",
    "\n",
    "**Area**: Burned area in hectares\n",
    "\n",
    "FFMC, DMC, and DC according to the FWI (https://cwfis.cfs.nrcan.gc.ca/background/summary/fwi)"
   ]
  },
  {
   "cell_type": "code",
   "execution_count": 79,
   "metadata": {},
   "outputs": [
    {
     "name": "stdout",
     "output_type": "stream",
     "text": [
      "First 5 records: \n",
      "    X  Y month  day  FFMC   DMC     DC  ISI  temp  RH  wind  rain  area\n",
      "0  7  5   mar  fri  86.2  26.2   94.3  5.1   8.2  51   6.7   0.0   0.0\n",
      "1  7  4   oct  tue  90.6  35.4  669.1  6.7  18.0  33   0.9   0.0   0.0\n",
      "2  7  4   oct  sat  90.6  43.7  686.9  6.7  14.6  33   1.3   0.0   0.0\n",
      "3  8  6   mar  fri  91.7  33.3   77.5  9.0   8.3  97   4.0   0.2   0.0\n",
      "4  8  6   mar  sun  89.3  51.3  102.2  9.6  11.4  99   1.8   0.0   0.0\n"
     ]
    }
   ],
   "source": [
    "import pandas as pd\n",
    "import numpy as np\n",
    "import matplotlib.pyplot as plt\n",
    "#import seaborn as sns\n",
    "\n",
    "import sklearn\n",
    "\n",
    "from sklearn.linear_model import LinearRegression, Lasso, Ridge, LogisticRegression\n",
    "from sklearn.ensemble import RandomForestRegressor\n",
    "from sklearn.neural_network import MLPRegressor\n",
    "from sklearn.svm import SVR, SVC\n",
    "from sklearn.neighbors import KNeighborsRegressor\n",
    "from sklearn.preprocessing import StandardScaler\n",
    "from sklearn.decomposition import PCA\n",
    "from sklearn.mixture import GaussianMixture\n",
    "from sklearn.neural_network import MLPClassifier\n",
    "from sklearn.model_selection import train_test_split\n",
    "from sklearn.metrics import mean_squared_error, mean_absolute_error, r2_score, accuracy_score, precision_score, recall_score, f1_score\n",
    "\n",
    "\n",
    "import matplotlib.pyplot as plt\n",
    "%matplotlib inline\n",
    "\n",
    "# Set the path to the file you'd like to load\n",
    "file_path = \"C:\\MAIN\\School\\ML\\Sem Proj\\forest-fires\\forestfires.ipynb\"\n",
    "\n",
    "# Load the latest version\n",
    "forest_fires = pd.read_csv(\"forestfires_dataset.csv\")\n",
    "\n",
    "print(\"First 5 records: \\n\", forest_fires.head())\n",
    "  "
   ]
  },
  {
   "cell_type": "code",
   "execution_count": 80,
   "metadata": {},
   "outputs": [
    {
     "name": "stdout",
     "output_type": "stream",
     "text": [
      "(270, 11)\n"
     ]
    }
   ],
   "source": [
    "###Transform Data - get splits\n",
    "forest_fires = forest_fires.drop(columns=['month', 'day']) #drop month and day columns\n",
    "\n",
    "#get rid of half of 90% of 0 area rows\n",
    "ff_zeros = forest_fires[forest_fires['area'] == 0]\n",
    "ff_nonzeros = forest_fires[forest_fires['area'] != 0]\n",
    "print(ff_nonzeros.shape)\n",
    "ff_zeros_reduced = ff_zeros.sample(frac=0.05, random_state=42)\n",
    "forest_fires = pd.concat([ff_nonzeros, ff_zeros_reduced]).reset_index(drop=True)\n",
    "\n",
    "X = forest_fires.drop(columns=['area', 'X', 'Y'])\n",
    "Y = forest_fires[['area']]\n",
    "\n",
    "Y_log = np.log1p(Y) #skewed to 0, apply log \n",
    "\n",
    "# Standardize numerical features - this standardizes mean to 0\n",
    "scaler = StandardScaler()\n",
    "X_scaled = scaler.fit_transform(X)\n",
    "\n",
    "# Split into training and test sets\n",
    "X_train, X_test, y_train_log, y_test_log = train_test_split(\n",
    "    X_scaled, Y_log, test_size=0.2, random_state=42\n",
    ")\n",
    "\n",
    "##note \n",
    "#if going with classifier, try to make amounts of nonburn to burn "
   ]
  },
  {
   "cell_type": "code",
   "execution_count": 81,
   "metadata": {},
   "outputs": [
    {
     "ename": "NameError",
     "evalue": "name 'sns' is not defined",
     "output_type": "error",
     "traceback": [
      "\u001b[0;31m---------------------------------------------------------------------------\u001b[0m",
      "\u001b[0;31mNameError\u001b[0m                                 Traceback (most recent call last)",
      "Cell \u001b[0;32mIn[81], line 3\u001b[0m\n\u001b[1;32m      1\u001b[0m \u001b[38;5;66;03m# Plotting the distribution of the target 'area'\u001b[39;00m\n\u001b[1;32m      2\u001b[0m plt\u001b[38;5;241m.\u001b[39mfigure(figsize\u001b[38;5;241m=\u001b[39m(\u001b[38;5;241m8\u001b[39m, \u001b[38;5;241m5\u001b[39m))\n\u001b[0;32m----> 3\u001b[0m \u001b[43msns\u001b[49m\u001b[38;5;241m.\u001b[39mhistplot(Y[\u001b[38;5;124m'\u001b[39m\u001b[38;5;124marea\u001b[39m\u001b[38;5;124m'\u001b[39m], bins\u001b[38;5;241m=\u001b[39m\u001b[38;5;241m30\u001b[39m, kde\u001b[38;5;241m=\u001b[39m\u001b[38;5;28;01mTrue\u001b[39;00m)\n\u001b[1;32m      4\u001b[0m plt\u001b[38;5;241m.\u001b[39mtitle(\u001b[38;5;124m'\u001b[39m\u001b[38;5;124mDistribution of Forest Fire Area\u001b[39m\u001b[38;5;124m'\u001b[39m)\n\u001b[1;32m      5\u001b[0m plt\u001b[38;5;241m.\u001b[39mxlabel(\u001b[38;5;124m'\u001b[39m\u001b[38;5;124mArea\u001b[39m\u001b[38;5;124m'\u001b[39m)\n",
      "\u001b[0;31mNameError\u001b[0m: name 'sns' is not defined"
     ]
    },
    {
     "data": {
      "text/plain": [
       "<Figure size 800x500 with 0 Axes>"
      ]
     },
     "metadata": {},
     "output_type": "display_data"
    }
   ],
   "source": [
    "# Plotting the distribution of the target 'area'\n",
    "plt.figure(figsize=(8, 5))\n",
    "sns.histplot(Y['area'], bins=30, kde=True)\n",
    "plt.title('Distribution of Forest Fire Area')\n",
    "plt.xlabel('Area')\n",
    "plt.show()\n",
    "\n",
    "#plot the log-transformed target\n",
    "plt.figure(figsize=(8, 5))\n",
    "sns.histplot(np.log1p(Y['area']), bins=30, kde=True, color='orange')\n",
    "plt.title('Log-transformed Distribution of Forest Fire Area')\n",
    "plt.xlabel('log(Area + 1)')\n",
    "plt.show()"
   ]
  },
  {
   "cell_type": "code",
   "execution_count": 82,
   "metadata": {},
   "outputs": [
    {
     "name": "stdout",
     "output_type": "stream",
     "text": [
      "Linear Regression Performance:\n",
      "RMSE: 30.913\n",
      "MAE: 13.421\n",
      "R²: -0.062\n",
      "\n",
      "Ridge Regression Performance:\n",
      "RMSE: 30.913\n",
      "MAE: 13.420\n",
      "R²: -0.062\n",
      "\n",
      "Lasso Regression Performance:\n",
      "RMSE: 31.145\n",
      "MAE: 12.945\n",
      "R²: -0.078\n",
      "\n",
      "Neural Network (MLPRegressor) Performance:\n",
      "RMSE: 30.895\n",
      "MAE: 13.329\n",
      "R²: -0.061\n"
     ]
    },
    {
     "name": "stderr",
     "output_type": "stream",
     "text": [
      "/penv/lib64/python3.9/site-packages/sklearn/neural_network/_multilayer_perceptron.py:1631: DataConversionWarning: A column-vector y was passed when a 1d array was expected. Please change the shape of y to (n_samples, ), for example using ravel().\n",
      "  y = column_or_1d(y, warn=True)\n"
     ]
    }
   ],
   "source": [
    "# A helper function to evaluate models\n",
    "def evaluate_model(model, X_test, y_test_log):\n",
    "    # Predict in log-space then revert transformation\n",
    "    y_pred_log = model.predict(X_test)\n",
    "    y_pred = np.expm1(y_pred_log)\n",
    "    y_true = np.expm1(y_test_log)\n",
    "    \n",
    "    rmse = np.sqrt(mean_squared_error(y_true, y_pred))\n",
    "    mae = mean_absolute_error(y_true, y_pred)\n",
    "    r2 = r2_score(y_true, y_pred)\n",
    "    \n",
    "    print(f'RMSE: {rmse:.3f}')\n",
    "    print(f'MAE: {mae:.3f}')\n",
    "    print(f'R²: {r2:.3f}')\n",
    "    return y_pred\n",
    "\n",
    "#Linear Regression\n",
    "lin_reg = LinearRegression()\n",
    "lin_reg.fit(X_train, y_train_log)\n",
    "print(\"Linear Regression Performance:\")\n",
    "lin_y_pred = evaluate_model(lin_reg, X_test, y_test_log)\n",
    "\n",
    "#Ridge Regression (regularized linear model)\n",
    "ridge = Ridge(alpha=0.1)\n",
    "ridge.fit(X_train, y_train_log)\n",
    "print(\"\\nRidge Regression Performance:\")\n",
    "ridge_y_pred = evaluate_model(ridge, X_test, y_test_log)\n",
    "\n",
    "#Lasso Regression \n",
    "lasso = Lasso(alpha=0.1)\n",
    "lasso.fit(X_train, y_train_log)\n",
    "print(\"\\nLasso Regression Performance:\")\n",
    "lasso_y_pred = evaluate_model(lasso, X_test, y_test_log)\n",
    "\n",
    "# Neural Network with MLPRegressor\n",
    "mlp_reg = MLPRegressor(solver =\"adam\" , hidden_layer_sizes=(100), activation='logistic')\n",
    "\n",
    "mlp_reg.fit(X_train, y_train_log)\n",
    "print(\"\\nNeural Network (MLPRegressor) Performance:\")\n",
    "mlp_y_pred = evaluate_model(mlp_reg, X_test, y_test_log)"
   ]
  },
  {
   "cell_type": "code",
   "execution_count": 83,
   "metadata": {},
   "outputs": [
    {
     "name": "stdout",
     "output_type": "stream",
     "text": [
      "Test set R^2: -0.30\n"
     ]
    }
   ],
   "source": [
    "#LINEAR REGRESSION\n",
    "\n",
    "#Train the model by fitting it to the training data\n",
    "lr = LinearRegression()\n",
    "lr = lr.fit(X_train, y_train_log)\n",
    "\n",
    "lr.coef_\n",
    "\n",
    "#Test the model by predicting the test results\n",
    "y_pred = lr.predict(X_test)\n",
    "\n",
    "#print(\"Test set targets:\\n\", y_test_log)\n",
    "#print(\"Test set predictions:\\n\", y_pred)\n",
    "print(\"Test set R^2: {:.2f}\".format(lr.score(X_test, y_test_log)))"
   ]
  },
  {
   "cell_type": "code",
   "execution_count": 84,
   "metadata": {},
   "outputs": [
    {
     "data": {
      "image/png": "[encoded data removed]",
      "text/plain": [
       "<Figure size 640x480 with 1 Axes>"
      ]
     },
     "metadata": {},
     "output_type": "display_data"
    }
   ],
   "source": [
    "plt.plot(forest_fires.index, forest_fires['temp'], label='Temperature')\n",
    "plt.plot(forest_fires.index, forest_fires['area'], label='Area')\n",
    "plt.xlabel('Index')\n",
    "plt.ylabel('Value')\n",
    "plt.title('Temperature vs Humidity')\n",
    "plt.legend()\n",
    "plt.show()"
   ]
  },
  {
   "cell_type": "code",
   "execution_count": 85,
   "metadata": {},
   "outputs": [],
   "source": [
    "#transform to either 0 or 1\n",
    "Y_bin = Y.copy()\n",
    "Y_bin['area'] = (Y_bin['area'] != 0).astype(int)\n",
    "\n",
    "\n",
    "# resplit into training and test sets\n",
    "X_train_bin, X_test_bin, y_train_bin, y_test_bin = train_test_split(\n",
    "    X, Y_bin, test_size=0.2, random_state=42\n",
    ")"
   ]
  },
  {
   "cell_type": "code",
   "execution_count": 86,
   "metadata": {},
   "outputs": [
    {
     "name": "stdout",
     "output_type": "stream",
     "text": [
      "Accuracy: 0.9649122807017544\n",
      "Neural Net Accuracy: 0.9473684210526315\n",
      "SVM Accuracy: 0.9649122807017544\n",
      "Neural Net Accuracy: 0.9473684210526315\n"
     ]
    }
   ],
   "source": [
    "#Logistic Regression\n",
    "log_reg = LogisticRegression(max_iter= 10000)\n",
    "log_reg.fit(X_train_bin, y_train_bin['area'])  # Just use the 'area' column\n",
    "y_pred = log_reg.predict(X_test_bin)\n",
    "\n",
    "# Accuracy\n",
    "print(\"Accuracy:\", accuracy_score(y_test_bin['area'], y_pred))\n",
    "\n",
    "#SVM\n",
    "svm = SVC(kernel='rbf')\n",
    "svm.fit(X_train, y_train_bin['area'])\n",
    "y_pred_svm = svm.predict(X_test)\n",
    "\n",
    "\n",
    "mlp = MLPClassifier(hidden_layer_sizes=(100,), max_iter=1000, random_state=42)\n",
    "mlp.fit(X_train, y_train_bin['area'])\n",
    "y_pred_mlp = mlp.predict(X_test)\n",
    "\n",
    "print(\"Neural Net Accuracy:\", accuracy_score(y_test_bin['area'], y_pred_mlp))\n",
    "\n",
    "print(\"SVM Accuracy:\", accuracy_score(y_test_bin['area'], y_pred_svm))\n",
    "\n",
    "print(\"Neural Net Accuracy:\", accuracy_score(y_test_bin['area'], y_pred_mlp))"
   ]
  },
  {
   "cell_type": "markdown",
   "metadata": {},
   "source": [
    "# Ground vs. Weather\n",
    "Some of the figures seem to be related to ground condition, while others are related to weather conditions. Do these different sets of factors affect the regression differently?"
   ]
  },
  {
   "cell_type": "code",
   "execution_count": 95,
   "metadata": {},
   "outputs": [
    {
     "name": "stdout",
     "output_type": "stream",
     "text": [
      "Index(['FFMC', 'DMC', 'DC', 'ISI', 'temp', 'RH', 'wind', 'rain'], dtype='object')\n",
      "Index(['FFMC', 'DMC', 'DC', 'ISI'], dtype='object')\n",
      "Index(['temp', 'RH', 'wind', 'rain'], dtype='object')\n",
      "Ground training set R^2: -0.06\n",
      "Ground test set R^2: -0.05\n",
      "Weather training set R^2: -0.05\n",
      "Weather test set R^2: 0.02\n"
     ]
    }
   ],
   "source": [
    "X_ground = forest_fires.drop(columns=['X','Y','wind','rain','temp','RH','area'])\n",
    "X_weather = forest_fires.drop(columns=['X','Y','FFMC','DMC','DC','ISI','area'])\n",
    "\n",
    "print(X.columns)\n",
    "print(X_ground.columns)\n",
    "print(X_weather.columns)\n",
    "\n",
    "X_gscaled = scaler.fit_transform(X_ground)\n",
    "X_wscaled = scaler.fit_transform(X_weather)\n",
    "\n",
    "X_train, X_test, y_train_log, y_test_log = train_test_split(\n",
    "    X_gscaled, Y_log\n",
    ")\n",
    "\n",
    "groundlr = LinearRegression().fit(X_train, y_train_log)\n",
    "\n",
    "print(\"Ground training set R^2: {:.2f}\".format(newlr.score(X_train, y_train_log)))\n",
    "print(\"Ground test set R^2: {:.2f}\".format(newlr.score(X_test, y_test_log)))\n",
    "\n",
    "X_train, X_test, y_train_log, y_test_log = train_test_split(\n",
    "    X_wscaled, Y_log\n",
    ")\n",
    "\n",
    "groundlr = LinearRegression().fit(X_train, y_train_log)\n",
    "\n",
    "print(\"Weather training set R^2: {:.2f}\".format(newlr.score(X_train, y_train_log)))\n",
    "print(\"Weather test set R^2: {:.2f}\".format(newlr.score(X_test, y_test_log)))\n",
    "\n",
    "#Somehow make a function that displays each combo of factors against each other"
   ]
  },
  {
   "cell_type": "markdown",
   "metadata": {},
   "source": [
    "What if it fits better as a polynomial?"
   ]
  },
  {
   "cell_type": "code",
   "execution_count": 104,
   "metadata": {},
   "outputs": [
    {
     "name": "stdout",
     "output_type": "stream",
     "text": [
      "Polynomial training set R^2: 0.99\n",
      "Polynomial test set R^2: -196119.28\n"
     ]
    }
   ],
   "source": [
    "from sklearn.preprocessing import MinMaxScaler, PolynomialFeatures\n",
    "\n",
    "X_poly = PolynomialFeatures(degree=8).fit_transform(X)\n",
    "\n",
    "X_train, X_test, y_train, y_test = train_test_split(X_poly, Y_log)\n",
    "lr_poly = LinearRegression().fit(X_train, y_train)\n",
    "print(\"Polynomial training set R^2: {:.2f}\".format(lr_poly.score(X_train, y_train)))\n",
    "print(\"Polynomial test set R^2: {:.2f}\".format(lr_poly.score(X_test, y_test)))"
   ]
  },
  {
   "cell_type": "markdown",
   "metadata": {},
   "source": [
    "A liiiiiittle overfit"
   ]
  },
  {
   "cell_type": "markdown",
   "metadata": {},
   "source": [
    "# to do:\n",
    "SVR"
   ]
  },
  {
   "cell_type": "code",
   "execution_count": 98,
   "metadata": {},
   "outputs": [],
   "source": [
    "from sklearn.svm import SVR\n",
    "\n",
    "svr = SVR(kernel='rbf', C=1.0, epsilon=0.1)\n",
    "svr.fit(X_train, y_train)\n",
    "y_pred = svr.predict(X_test)"
   ]
  },
  {
   "cell_type": "code",
   "execution_count": null,
   "metadata": {},
   "outputs": [],
   "source": []
  }
 ],
 "metadata": {
  "colab": {
   "authorship_tag": "ABX9TyPz6Wc0QkVgnZEOQH02FsDH",
   "include_colab_link": true,
   "provenance": [],
   "toc_visible": true
  },
  "kernelspec": {
   "display_name": "Python 3 (ipykernel)",
   "language": "python",
   "name": "python3"
  },
  "language_info": {
   "codemirror_mode": {
    "name": "ipython",
    "version": 3
   },
   "file_extension": ".py",
   "mimetype": "text/x-python",
   "name": "python",
   "nbconvert_exporter": "python",
   "pygments_lexer": "ipython3",
   "version": "3.9.21"
  }
 },
 "nbformat": 4,
 "nbformat_minor": 4
}
